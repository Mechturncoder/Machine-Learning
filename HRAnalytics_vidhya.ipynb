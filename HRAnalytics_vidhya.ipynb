{
 "cells": [
  {
   "cell_type": "code",
   "execution_count": 91,
   "metadata": {},
   "outputs": [],
   "source": [
    "from sklearn.model_selection import train_test_split\n",
    "import pandas as pd\n",
    "import numpy as np\n",
    "from sklearn.metrics import f1_score, r2_score, accuracy_score\n",
    "from sklearn.svm import  SVC\n",
    "from sklearn.linear_model import LogisticRegression, LinearRegression, Ridge, ElasticNet\n",
    "from sklearn.discriminant_analysis import LinearDiscriminantAnalysis\n",
    "from sklearn.preprocessing import MinMaxScaler, StandardScaler\n",
    "from sklearn.pipeline import Pipeline\n",
    "from sklearn.preprocessing import OneHotEncoder\n",
    "from sklearn.compose import make_column_selector, make_column_transformer\n",
    "from sklearn.naive_bayes import GaussianNB\n",
    "from sklearn.impute import SimpleImputer\n",
    "from sklearn.tree import DecisionTreeClassifier, DecisionTreeRegressor\n",
    "import warnings\n",
    "warnings.simplefilter('ignore')\n",
    "from xgboost import XGBRegressor, XGBClassifier\n",
    "from sklearn.ensemble import VotingClassifier, BaggingClassifier, BaggingRegressor, RandomForestClassifier, AdaBoostClassifier, AdaBoostRegressor, GradientBoostingRegressor, GradientBoostingClassifier, StackingClassifier, RandomForestRegressor, StackingRegressor\n",
    "import matplotlib.pyplot as plt\n",
    "from lightgbm import LGBMRegressor, LGBMClassifier"
   ]
  },
  {
   "cell_type": "code",
   "execution_count": 92,
   "metadata": {},
   "outputs": [],
   "source": [
    "train = pd.read_csv(\"./HRAnalytics/train_LZdllcl.csv\", index_col=0)\n",
    "test = pd.read_csv(\"./HRAnalytics/test_2umaH9m.csv\", index_col=0)"
   ]
  },
  {
   "cell_type": "code",
   "execution_count": 93,
   "metadata": {},
   "outputs": [
    {
     "data": {
      "text/html": [
       "<div>\n",
       "<style scoped>\n",
       "    .dataframe tbody tr th:only-of-type {\n",
       "        vertical-align: middle;\n",
       "    }\n",
       "\n",
       "    .dataframe tbody tr th {\n",
       "        vertical-align: top;\n",
       "    }\n",
       "\n",
       "    .dataframe thead th {\n",
       "        text-align: right;\n",
       "    }\n",
       "</style>\n",
       "<table border=\"1\" class=\"dataframe\">\n",
       "  <thead>\n",
       "    <tr style=\"text-align: right;\">\n",
       "      <th></th>\n",
       "      <th>department</th>\n",
       "      <th>region</th>\n",
       "      <th>education</th>\n",
       "      <th>gender</th>\n",
       "      <th>recruitment_channel</th>\n",
       "      <th>no_of_trainings</th>\n",
       "      <th>age</th>\n",
       "      <th>previous_year_rating</th>\n",
       "      <th>length_of_service</th>\n",
       "      <th>KPIs_met &gt;80%</th>\n",
       "      <th>awards_won?</th>\n",
       "      <th>avg_training_score</th>\n",
       "      <th>is_promoted</th>\n",
       "    </tr>\n",
       "    <tr>\n",
       "      <th>employee_id</th>\n",
       "      <th></th>\n",
       "      <th></th>\n",
       "      <th></th>\n",
       "      <th></th>\n",
       "      <th></th>\n",
       "      <th></th>\n",
       "      <th></th>\n",
       "      <th></th>\n",
       "      <th></th>\n",
       "      <th></th>\n",
       "      <th></th>\n",
       "      <th></th>\n",
       "      <th></th>\n",
       "    </tr>\n",
       "  </thead>\n",
       "  <tbody>\n",
       "    <tr>\n",
       "      <th>65438</th>\n",
       "      <td>Sales &amp; Marketing</td>\n",
       "      <td>region_7</td>\n",
       "      <td>Master's &amp; above</td>\n",
       "      <td>f</td>\n",
       "      <td>sourcing</td>\n",
       "      <td>1</td>\n",
       "      <td>35</td>\n",
       "      <td>5.0</td>\n",
       "      <td>8</td>\n",
       "      <td>1</td>\n",
       "      <td>0</td>\n",
       "      <td>49</td>\n",
       "      <td>0</td>\n",
       "    </tr>\n",
       "    <tr>\n",
       "      <th>65141</th>\n",
       "      <td>Operations</td>\n",
       "      <td>region_22</td>\n",
       "      <td>Bachelor's</td>\n",
       "      <td>m</td>\n",
       "      <td>other</td>\n",
       "      <td>1</td>\n",
       "      <td>30</td>\n",
       "      <td>5.0</td>\n",
       "      <td>4</td>\n",
       "      <td>0</td>\n",
       "      <td>0</td>\n",
       "      <td>60</td>\n",
       "      <td>0</td>\n",
       "    </tr>\n",
       "    <tr>\n",
       "      <th>7513</th>\n",
       "      <td>Sales &amp; Marketing</td>\n",
       "      <td>region_19</td>\n",
       "      <td>Bachelor's</td>\n",
       "      <td>m</td>\n",
       "      <td>sourcing</td>\n",
       "      <td>1</td>\n",
       "      <td>34</td>\n",
       "      <td>3.0</td>\n",
       "      <td>7</td>\n",
       "      <td>0</td>\n",
       "      <td>0</td>\n",
       "      <td>50</td>\n",
       "      <td>0</td>\n",
       "    </tr>\n",
       "    <tr>\n",
       "      <th>2542</th>\n",
       "      <td>Sales &amp; Marketing</td>\n",
       "      <td>region_23</td>\n",
       "      <td>Bachelor's</td>\n",
       "      <td>m</td>\n",
       "      <td>other</td>\n",
       "      <td>2</td>\n",
       "      <td>39</td>\n",
       "      <td>1.0</td>\n",
       "      <td>10</td>\n",
       "      <td>0</td>\n",
       "      <td>0</td>\n",
       "      <td>50</td>\n",
       "      <td>0</td>\n",
       "    </tr>\n",
       "    <tr>\n",
       "      <th>48945</th>\n",
       "      <td>Technology</td>\n",
       "      <td>region_26</td>\n",
       "      <td>Bachelor's</td>\n",
       "      <td>m</td>\n",
       "      <td>other</td>\n",
       "      <td>1</td>\n",
       "      <td>45</td>\n",
       "      <td>3.0</td>\n",
       "      <td>2</td>\n",
       "      <td>0</td>\n",
       "      <td>0</td>\n",
       "      <td>73</td>\n",
       "      <td>0</td>\n",
       "    </tr>\n",
       "  </tbody>\n",
       "</table>\n",
       "</div>"
      ],
      "text/plain": [
       "                    department     region         education gender  \\\n",
       "employee_id                                                          \n",
       "65438        Sales & Marketing   region_7  Master's & above      f   \n",
       "65141               Operations  region_22        Bachelor's      m   \n",
       "7513         Sales & Marketing  region_19        Bachelor's      m   \n",
       "2542         Sales & Marketing  region_23        Bachelor's      m   \n",
       "48945               Technology  region_26        Bachelor's      m   \n",
       "\n",
       "            recruitment_channel  no_of_trainings  age  previous_year_rating  \\\n",
       "employee_id                                                                   \n",
       "65438                  sourcing                1   35                   5.0   \n",
       "65141                     other                1   30                   5.0   \n",
       "7513                   sourcing                1   34                   3.0   \n",
       "2542                      other                2   39                   1.0   \n",
       "48945                     other                1   45                   3.0   \n",
       "\n",
       "             length_of_service  KPIs_met >80%  awards_won?  \\\n",
       "employee_id                                                  \n",
       "65438                        8              1            0   \n",
       "65141                        4              0            0   \n",
       "7513                         7              0            0   \n",
       "2542                        10              0            0   \n",
       "48945                        2              0            0   \n",
       "\n",
       "             avg_training_score  is_promoted  \n",
       "employee_id                                   \n",
       "65438                        49            0  \n",
       "65141                        60            0  \n",
       "7513                         50            0  \n",
       "2542                         50            0  \n",
       "48945                        73            0  "
      ]
     },
     "execution_count": 93,
     "metadata": {},
     "output_type": "execute_result"
    }
   ],
   "source": [
    "train.head()"
   ]
  },
  {
   "cell_type": "code",
   "execution_count": 94,
   "metadata": {},
   "outputs": [
    {
     "data": {
      "text/plain": [
       "department                 0\n",
       "region                     0\n",
       "education               2409\n",
       "gender                     0\n",
       "recruitment_channel        0\n",
       "no_of_trainings            0\n",
       "age                        0\n",
       "previous_year_rating    4124\n",
       "length_of_service          0\n",
       "KPIs_met >80%              0\n",
       "awards_won?                0\n",
       "avg_training_score         0\n",
       "is_promoted                0\n",
       "dtype: int64"
      ]
     },
     "execution_count": 94,
     "metadata": {},
     "output_type": "execute_result"
    }
   ],
   "source": [
    "train.isnull().sum()"
   ]
  },
  {
   "cell_type": "code",
   "execution_count": 95,
   "metadata": {},
   "outputs": [],
   "source": [
    "X_train, y_train = train.drop('is_promoted', axis=1), train['is_promoted']"
   ]
  },
  {
   "cell_type": "code",
   "execution_count": 96,
   "metadata": {},
   "outputs": [],
   "source": [
    "imp_const = SimpleImputer(strategy='constant', fill_value=\"Bachelor's\")\n",
    "imp_freq = SimpleImputer(strategy='most_frequent')\n",
    "ct_imp = make_column_transformer((imp_const, make_column_selector(dtype_include=object)),(imp_freq, make_column_selector(dtype_exclude=object)),verbose_feature_names_out=False).set_output(transform='pandas')\n",
    "X_trn_imp = ct_imp.fit_transform(X_train)\n",
    "X_tst_imp = ct_imp.transform(test)"
   ]
  },
  {
   "cell_type": "code",
   "execution_count": 97,
   "metadata": {},
   "outputs": [],
   "source": [
    "ohe = OneHotEncoder(sparse_output=False, drop='first').set_output(transform='pandas')\n",
    "ct_ohe = make_column_transformer((ohe, make_column_selector(dtype_include=object)),(\"passthrough\", make_column_selector(dtype_exclude=object)),verbose_feature_names_out=False).set_output(transform='pandas')"
   ]
  },
  {
   "cell_type": "code",
   "execution_count": 98,
   "metadata": {},
   "outputs": [],
   "source": [
    "X_trn_ohe = ct_ohe.fit_transform(X_trn_imp)\n",
    "X_tst_ohe = ct_ohe.transform(X_tst_imp)\n"
   ]
  },
  {
   "cell_type": "code",
   "execution_count": 99,
   "metadata": {},
   "outputs": [
    {
     "data": {
      "text/plain": [
       "((54808, 53), (23490, 53))"
      ]
     },
     "execution_count": 99,
     "metadata": {},
     "output_type": "execute_result"
    }
   ],
   "source": [
    "X_trn_ohe.shape, X_tst_ohe.shape"
   ]
  },
  {
   "cell_type": "code",
   "execution_count": 100,
   "metadata": {},
   "outputs": [],
   "source": [
    "from catboost import CatBoostRegressor, CatBoostClassifier\n"
   ]
  },
  {
   "cell_type": "code",
   "execution_count": 101,
   "metadata": {},
   "outputs": [],
   "source": [
    "# gbm = LGBMClassifier(random_state=42)\n",
    "# pipe_rf = Pipeline([('IMP',ct_imp),('OHE',ct_ohe),('GBM',gbm)])\n",
    "# pipe_rf.fit(X_train, y_train)\n",
    "# y_pred = pipe_rf.predict(test)"
   ]
  },
  {
   "cell_type": "code",
   "execution_count": 102,
   "metadata": {},
   "outputs": [],
   "source": [
    "# # CatBoost without Hot encoding\n",
    "# # {'classifier__depth': 3, 'classifier__iterations': 50, 'classifier__learning_rate': 0.1}\n",
    "# gbm = CatBoostClassifier(random_state=42, max_depth=3, iterations=50, learning_rate=0.1, cat_features=['department','region','education','gender','recruitment_channel'])\n",
    "# pipe_rf = Pipeline([('IMP',ct_imp),('GBM',gbm)])\n",
    "# pipe_rf.fit(X_train, y_train)\n",
    "# y_pred = pipe_rf.predict(test)"
   ]
  },
  {
   "cell_type": "code",
   "execution_count": 103,
   "metadata": {},
   "outputs": [],
   "source": [
    "submit = pd.read_csv(\"./HRAnalytics/sample_submission_M0L0uXE.csv\")\n"
   ]
  },
  {
   "cell_type": "code",
   "execution_count": 104,
   "metadata": {},
   "outputs": [],
   "source": [
    "submit['is_promoted'] = y_pred"
   ]
  },
  {
   "cell_type": "code",
   "execution_count": 105,
   "metadata": {},
   "outputs": [],
   "source": [
    "submit.to_csv(\"./submitHR3.csv\", index=False)\n"
   ]
  },
  {
   "cell_type": "code",
   "execution_count": 108,
   "metadata": {},
   "outputs": [],
   "source": [
    "svm = SVC(kernel='linear')\n",
    "rf = RandomForestClassifier(random_state=24)\n",
    "dtc = DecisionTreeClassifier(random_state=24)\n",
    "xgb = XGBClassifier(random_state=24)\n",
    "stack = StackingClassifier(estimators=[('SVM', svm),('LR',rf),('TREE',dtc)], final_estimator=xgb, n_jobs=-1)\n",
    "stack.fit(X_trn_ohe, y_train)\n",
    "y_pred = stack.predict(X_tst_ohe)"
   ]
  },
  {
   "cell_type": "code",
   "execution_count": 109,
   "metadata": {},
   "outputs": [],
   "source": [
    "submit['is_promoted'] = y_pred"
   ]
  },
  {
   "cell_type": "code",
   "execution_count": 110,
   "metadata": {},
   "outputs": [],
   "source": [
    "submit.to_csv(\"./submitHR3.csv\", index=False)"
   ]
  },
  {
   "cell_type": "code",
   "execution_count": null,
   "metadata": {},
   "outputs": [],
   "source": []
  }
 ],
 "metadata": {
  "kernelspec": {
   "display_name": "dung",
   "language": "python",
   "name": "python3"
  },
  "language_info": {
   "codemirror_mode": {
    "name": "ipython",
    "version": 3
   },
   "file_extension": ".py",
   "mimetype": "text/x-python",
   "name": "python",
   "nbconvert_exporter": "python",
   "pygments_lexer": "ipython3",
   "version": "3.10.15"
  }
 },
 "nbformat": 4,
 "nbformat_minor": 2
}
