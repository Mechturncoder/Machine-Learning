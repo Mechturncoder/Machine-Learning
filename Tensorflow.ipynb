{
 "cells": [
  {
   "cell_type": "code",
   "execution_count": 3,
   "metadata": {},
   "outputs": [
    {
     "name": "stdout",
     "output_type": "stream",
     "text": [
      "Epoch  0: w=0.95 b=1.24, loss=34.48368\n",
      "Epoch  1: w=1.56 b=1.99, loss=20.30217\n",
      "Epoch  2: w=1.98 b=2.59, loss=12.11430\n",
      "Epoch  3: w=2.28 b=3.07, loss=7.31589\n",
      "Epoch  4: w=2.49 b=3.46, loss=4.46468\n",
      "Epoch  5: w=2.64 b=3.77, loss=2.74922\n",
      "Epoch  6: w=2.75 b=4.01, loss=1.70569\n",
      "Epoch  7: w=2.82 b=4.21, loss=1.06488\n",
      "Epoch  8: w=2.87 b=4.37, loss=0.66821\n",
      "Epoch  9: w=2.91 b=4.50, loss=0.42103\n",
      "Epoch 10: w=2.94 b=4.60, loss=0.26617\n",
      "Epoch 11: w=2.96 b=4.68, loss=0.16871\n",
      "Epoch 12: w=2.97 b=4.74, loss=0.10716\n",
      "Epoch 13: w=2.98 b=4.79, loss=0.06818\n",
      "Epoch 14: w=2.98 b=4.83, loss=0.04343\n",
      "Epoch 15: w=2.99 b=4.87, loss=0.02770\n",
      "Epoch 16: w=2.99 b=4.89, loss=0.01768\n",
      "Epoch 17: w=2.99 b=4.92, loss=0.01129\n",
      "Epoch 18: w=3.00 b=4.93, loss=0.00721\n",
      "Epoch 19: w=3.00 b=4.95, loss=0.00461\n",
      "Epoch 20: w=3.00 b=4.96, loss=0.00295\n",
      "Epoch 21: w=3.00 b=4.97, loss=0.00188\n",
      "Epoch 22: w=3.00 b=4.97, loss=0.00121\n",
      "Epoch 23: w=3.00 b=4.98, loss=0.00077\n",
      "Epoch 24: w=3.00 b=4.98, loss=0.00049\n"
     ]
    }
   ],
   "source": [
    "import tensorflow as tf\n",
    "import numpy as np\n",
    "\n",
    "x = np.linspace(-2,2, 20)\n",
    "def f(x):\n",
    "  return x * 3.0 + 5.0\n",
    "y = f(x)\n",
    "\n",
    "\n",
    "initial_w = 0.1\n",
    "initial_b = 0.3\n",
    "class Model(tf.Module):\n",
    "  def __init__(self, **kwargs):\n",
    "    super().__init__(**kwargs)\n",
    "    # In practice, these should be randomly initialized\n",
    "    self.w = tf.Variable(initial_w)\n",
    "    self.b = tf.Variable(initial_b)\n",
    "\n",
    "  def __call__(self, x):\n",
    "    return self.w * x + self.b\n",
    "\n",
    "model = Model()\n",
    "\n",
    "\n",
    "\n",
    "def loss(predicted_y, actual_y):\n",
    "  return tf.reduce_mean(tf.square(predicted_y - actual_y))\n",
    "\n",
    "x = tf.convert_to_tensor(x, dtype=tf.float32)\n",
    "y = tf.convert_to_tensor(y, dtype=tf.float32)\n",
    "\n",
    "\n",
    "def train(model, inputs, outputs, learning_rate):\n",
    "  with tf.GradientTape() as t:\n",
    "    current_loss = loss(model(inputs),outputs)\n",
    "  dw, db = t.gradient(current_loss, [model.w, model.b])\n",
    "  model.w.assign_sub(learning_rate * dw)\n",
    "  model.b.assign_sub(learning_rate * db)\n",
    "  return current_loss\n",
    "  \n",
    "  \n",
    "model = Model()\n",
    "\n",
    "list_w = []\n",
    "list_b = []\n",
    "losses = []\n",
    "for epoch in range(25):\n",
    "  list_w.append(model.w.numpy())\n",
    "  list_b.append(model.b.numpy())\n",
    "  current_loss = train(model, x, y, learning_rate=0.1)\n",
    "  losses.append(current_loss)\n",
    "  print('Epoch %2d: w=%1.2f b=%1.2f, loss=%2.5f' % (epoch,model.w.numpy(),model.b.numpy(),current_loss))\n",
    "  \n",
    "\n"
   ]
  }
 ],
 "metadata": {
  "kernelspec": {
   "display_name": "dung",
   "language": "python",
   "name": "python3"
  },
  "language_info": {
   "codemirror_mode": {
    "name": "ipython",
    "version": 3
   },
   "file_extension": ".py",
   "mimetype": "text/x-python",
   "name": "python",
   "nbconvert_exporter": "python",
   "pygments_lexer": "ipython3",
   "version": "3.10.15"
  }
 },
 "nbformat": 4,
 "nbformat_minor": 2
}
