{
 "cells": [
  {
   "cell_type": "code",
   "execution_count": 1,
   "metadata": {
    "executionInfo": {
     "elapsed": 5041,
     "status": "ok",
     "timestamp": 1683179469307,
     "user": {
      "displayName": "Sanjay Sane",
      "userId": "07643709861745318184"
     },
     "user_tz": -330
    },
    "id": "vkYFU7wXDtuO"
   },
   "outputs": [],
   "source": [
    "import torch\n",
    "import pandas as pd\n",
    "import numpy as np\n",
    "import torch.nn as nn\n",
    "from sklearn.model_selection import train_test_split \n",
    "from sklearn.metrics import accuracy_score, log_loss\n",
    "from torchsummary import summary\n",
    "from sklearn.preprocessing import MinMaxScaler\n",
    "import torch.nn as nn\n",
    "import matplotlib.pyplot as plt\n",
    "import os \n",
    "os.chdir(r\"C:\\Training\\Academy\\Statistics (Python)\\Cases\\Glass Identification\")\n",
    "from sklearn.preprocessing import LabelEncoder \n",
    "from torch.utils.data import TensorDataset\n",
    "from torch.utils.data import DataLoader"
   ]
  },
  {
   "cell_type": "code",
   "execution_count": 2,
   "metadata": {},
   "outputs": [
    {
     "data": {
      "text/plain": [
       "array(['building_windows_float_processed',\n",
       "       'building_windows_non_float_processed',\n",
       "       'vehicle_windows_float_processed', 'containers', 'tableware',\n",
       "       'headlamps'], dtype=object)"
      ]
     },
     "execution_count": 2,
     "metadata": {},
     "output_type": "execute_result"
    }
   ],
   "source": [
    "glass = pd.read_csv(\"Glass.csv\")\n",
    "glass['Type'].unique()"
   ]
  },
  {
   "cell_type": "code",
   "execution_count": 3,
   "metadata": {},
   "outputs": [
    {
     "data": {
      "text/html": [
       "<div>\n",
       "<style scoped>\n",
       "    .dataframe tbody tr th:only-of-type {\n",
       "        vertical-align: middle;\n",
       "    }\n",
       "\n",
       "    .dataframe tbody tr th {\n",
       "        vertical-align: top;\n",
       "    }\n",
       "\n",
       "    .dataframe thead th {\n",
       "        text-align: right;\n",
       "    }\n",
       "</style>\n",
       "<table border=\"1\" class=\"dataframe\">\n",
       "  <thead>\n",
       "    <tr style=\"text-align: right;\">\n",
       "      <th></th>\n",
       "      <th>RI</th>\n",
       "      <th>Na</th>\n",
       "      <th>Mg</th>\n",
       "      <th>Al</th>\n",
       "      <th>Si</th>\n",
       "      <th>K</th>\n",
       "      <th>Ca</th>\n",
       "      <th>Ba</th>\n",
       "      <th>Fe</th>\n",
       "      <th>Type</th>\n",
       "    </tr>\n",
       "  </thead>\n",
       "  <tbody>\n",
       "    <tr>\n",
       "      <th>0</th>\n",
       "      <td>1.52101</td>\n",
       "      <td>13.64</td>\n",
       "      <td>4.49</td>\n",
       "      <td>1.10</td>\n",
       "      <td>71.78</td>\n",
       "      <td>0.06</td>\n",
       "      <td>8.75</td>\n",
       "      <td>0.0</td>\n",
       "      <td>0.0</td>\n",
       "      <td>building_windows_float_processed</td>\n",
       "    </tr>\n",
       "    <tr>\n",
       "      <th>1</th>\n",
       "      <td>1.51761</td>\n",
       "      <td>13.89</td>\n",
       "      <td>3.60</td>\n",
       "      <td>1.36</td>\n",
       "      <td>72.73</td>\n",
       "      <td>0.48</td>\n",
       "      <td>7.83</td>\n",
       "      <td>0.0</td>\n",
       "      <td>0.0</td>\n",
       "      <td>building_windows_float_processed</td>\n",
       "    </tr>\n",
       "    <tr>\n",
       "      <th>2</th>\n",
       "      <td>1.51618</td>\n",
       "      <td>13.53</td>\n",
       "      <td>3.55</td>\n",
       "      <td>1.54</td>\n",
       "      <td>72.99</td>\n",
       "      <td>0.39</td>\n",
       "      <td>7.78</td>\n",
       "      <td>0.0</td>\n",
       "      <td>0.0</td>\n",
       "      <td>building_windows_float_processed</td>\n",
       "    </tr>\n",
       "    <tr>\n",
       "      <th>3</th>\n",
       "      <td>1.51766</td>\n",
       "      <td>13.21</td>\n",
       "      <td>3.69</td>\n",
       "      <td>1.29</td>\n",
       "      <td>72.61</td>\n",
       "      <td>0.57</td>\n",
       "      <td>8.22</td>\n",
       "      <td>0.0</td>\n",
       "      <td>0.0</td>\n",
       "      <td>building_windows_float_processed</td>\n",
       "    </tr>\n",
       "    <tr>\n",
       "      <th>4</th>\n",
       "      <td>1.51742</td>\n",
       "      <td>13.27</td>\n",
       "      <td>3.62</td>\n",
       "      <td>1.24</td>\n",
       "      <td>73.08</td>\n",
       "      <td>0.55</td>\n",
       "      <td>8.07</td>\n",
       "      <td>0.0</td>\n",
       "      <td>0.0</td>\n",
       "      <td>building_windows_float_processed</td>\n",
       "    </tr>\n",
       "  </tbody>\n",
       "</table>\n",
       "</div>"
      ],
      "text/plain": [
       "        RI     Na    Mg    Al     Si     K    Ca   Ba   Fe  \\\n",
       "0  1.52101  13.64  4.49  1.10  71.78  0.06  8.75  0.0  0.0   \n",
       "1  1.51761  13.89  3.60  1.36  72.73  0.48  7.83  0.0  0.0   \n",
       "2  1.51618  13.53  3.55  1.54  72.99  0.39  7.78  0.0  0.0   \n",
       "3  1.51766  13.21  3.69  1.29  72.61  0.57  8.22  0.0  0.0   \n",
       "4  1.51742  13.27  3.62  1.24  73.08  0.55  8.07  0.0  0.0   \n",
       "\n",
       "                               Type  \n",
       "0  building_windows_float_processed  \n",
       "1  building_windows_float_processed  \n",
       "2  building_windows_float_processed  \n",
       "3  building_windows_float_processed  \n",
       "4  building_windows_float_processed  "
      ]
     },
     "execution_count": 3,
     "metadata": {},
     "output_type": "execute_result"
    }
   ],
   "source": [
    "glass.head()"
   ]
  },
  {
   "cell_type": "code",
   "execution_count": 4,
   "metadata": {
    "colab": {
     "base_uri": "https://localhost:8080/",
     "height": 250
    },
    "executionInfo": {
     "elapsed": 1275,
     "status": "ok",
     "timestamp": 1683179500202,
     "user": {
      "displayName": "Sanjay Sane",
      "userId": "07643709861745318184"
     },
     "user_tz": -330
    },
    "id": "S2EmwO2sDtuV",
    "outputId": "d8bb0752-9828-438f-abf3-4d7663bf8c18"
   },
   "outputs": [
    {
     "data": {
      "text/html": [
       "<div>\n",
       "<style scoped>\n",
       "    .dataframe tbody tr th:only-of-type {\n",
       "        vertical-align: middle;\n",
       "    }\n",
       "\n",
       "    .dataframe tbody tr th {\n",
       "        vertical-align: top;\n",
       "    }\n",
       "\n",
       "    .dataframe thead th {\n",
       "        text-align: right;\n",
       "    }\n",
       "</style>\n",
       "<table border=\"1\" class=\"dataframe\">\n",
       "  <thead>\n",
       "    <tr style=\"text-align: right;\">\n",
       "      <th></th>\n",
       "      <th>RI</th>\n",
       "      <th>Na</th>\n",
       "      <th>Mg</th>\n",
       "      <th>Al</th>\n",
       "      <th>Si</th>\n",
       "      <th>K</th>\n",
       "      <th>Ca</th>\n",
       "      <th>Ba</th>\n",
       "      <th>Fe</th>\n",
       "      <th>Type_building_windows_float_processed</th>\n",
       "      <th>Type_building_windows_non_float_processed</th>\n",
       "      <th>Type_containers</th>\n",
       "      <th>Type_headlamps</th>\n",
       "      <th>Type_tableware</th>\n",
       "      <th>Type_vehicle_windows_float_processed</th>\n",
       "    </tr>\n",
       "  </thead>\n",
       "  <tbody>\n",
       "    <tr>\n",
       "      <th>0</th>\n",
       "      <td>1.52101</td>\n",
       "      <td>13.64</td>\n",
       "      <td>4.49</td>\n",
       "      <td>1.10</td>\n",
       "      <td>71.78</td>\n",
       "      <td>0.06</td>\n",
       "      <td>8.75</td>\n",
       "      <td>0.0</td>\n",
       "      <td>0.0</td>\n",
       "      <td>1</td>\n",
       "      <td>0</td>\n",
       "      <td>0</td>\n",
       "      <td>0</td>\n",
       "      <td>0</td>\n",
       "      <td>0</td>\n",
       "    </tr>\n",
       "    <tr>\n",
       "      <th>1</th>\n",
       "      <td>1.51761</td>\n",
       "      <td>13.89</td>\n",
       "      <td>3.60</td>\n",
       "      <td>1.36</td>\n",
       "      <td>72.73</td>\n",
       "      <td>0.48</td>\n",
       "      <td>7.83</td>\n",
       "      <td>0.0</td>\n",
       "      <td>0.0</td>\n",
       "      <td>1</td>\n",
       "      <td>0</td>\n",
       "      <td>0</td>\n",
       "      <td>0</td>\n",
       "      <td>0</td>\n",
       "      <td>0</td>\n",
       "    </tr>\n",
       "    <tr>\n",
       "      <th>2</th>\n",
       "      <td>1.51618</td>\n",
       "      <td>13.53</td>\n",
       "      <td>3.55</td>\n",
       "      <td>1.54</td>\n",
       "      <td>72.99</td>\n",
       "      <td>0.39</td>\n",
       "      <td>7.78</td>\n",
       "      <td>0.0</td>\n",
       "      <td>0.0</td>\n",
       "      <td>1</td>\n",
       "      <td>0</td>\n",
       "      <td>0</td>\n",
       "      <td>0</td>\n",
       "      <td>0</td>\n",
       "      <td>0</td>\n",
       "    </tr>\n",
       "    <tr>\n",
       "      <th>3</th>\n",
       "      <td>1.51766</td>\n",
       "      <td>13.21</td>\n",
       "      <td>3.69</td>\n",
       "      <td>1.29</td>\n",
       "      <td>72.61</td>\n",
       "      <td>0.57</td>\n",
       "      <td>8.22</td>\n",
       "      <td>0.0</td>\n",
       "      <td>0.0</td>\n",
       "      <td>1</td>\n",
       "      <td>0</td>\n",
       "      <td>0</td>\n",
       "      <td>0</td>\n",
       "      <td>0</td>\n",
       "      <td>0</td>\n",
       "    </tr>\n",
       "    <tr>\n",
       "      <th>4</th>\n",
       "      <td>1.51742</td>\n",
       "      <td>13.27</td>\n",
       "      <td>3.62</td>\n",
       "      <td>1.24</td>\n",
       "      <td>73.08</td>\n",
       "      <td>0.55</td>\n",
       "      <td>8.07</td>\n",
       "      <td>0.0</td>\n",
       "      <td>0.0</td>\n",
       "      <td>1</td>\n",
       "      <td>0</td>\n",
       "      <td>0</td>\n",
       "      <td>0</td>\n",
       "      <td>0</td>\n",
       "      <td>0</td>\n",
       "    </tr>\n",
       "  </tbody>\n",
       "</table>\n",
       "</div>"
      ],
      "text/plain": [
       "        RI     Na    Mg    Al     Si     K    Ca   Ba   Fe  \\\n",
       "0  1.52101  13.64  4.49  1.10  71.78  0.06  8.75  0.0  0.0   \n",
       "1  1.51761  13.89  3.60  1.36  72.73  0.48  7.83  0.0  0.0   \n",
       "2  1.51618  13.53  3.55  1.54  72.99  0.39  7.78  0.0  0.0   \n",
       "3  1.51766  13.21  3.69  1.29  72.61  0.57  8.22  0.0  0.0   \n",
       "4  1.51742  13.27  3.62  1.24  73.08  0.55  8.07  0.0  0.0   \n",
       "\n",
       "   Type_building_windows_float_processed  \\\n",
       "0                                      1   \n",
       "1                                      1   \n",
       "2                                      1   \n",
       "3                                      1   \n",
       "4                                      1   \n",
       "\n",
       "   Type_building_windows_non_float_processed  Type_containers  Type_headlamps  \\\n",
       "0                                          0                0               0   \n",
       "1                                          0                0               0   \n",
       "2                                          0                0               0   \n",
       "3                                          0                0               0   \n",
       "4                                          0                0               0   \n",
       "\n",
       "   Type_tableware  Type_vehicle_windows_float_processed  \n",
       "0               0                                     0  \n",
       "1               0                                     0  \n",
       "2               0                                     0  \n",
       "3               0                                     0  \n",
       "4               0                                     0  "
      ]
     },
     "execution_count": 4,
     "metadata": {},
     "output_type": "execute_result"
    }
   ],
   "source": [
    "dum_gls = pd.get_dummies(glass)\n",
    "dum_gls.head()"
   ]
  },
  {
   "cell_type": "code",
   "execution_count": 5,
   "metadata": {},
   "outputs": [
    {
     "data": {
      "text/html": [
       "<div>\n",
       "<style scoped>\n",
       "    .dataframe tbody tr th:only-of-type {\n",
       "        vertical-align: middle;\n",
       "    }\n",
       "\n",
       "    .dataframe tbody tr th {\n",
       "        vertical-align: top;\n",
       "    }\n",
       "\n",
       "    .dataframe thead th {\n",
       "        text-align: right;\n",
       "    }\n",
       "</style>\n",
       "<table border=\"1\" class=\"dataframe\">\n",
       "  <thead>\n",
       "    <tr style=\"text-align: right;\">\n",
       "      <th></th>\n",
       "      <th>Type_building_windows_float_processed</th>\n",
       "      <th>Type_building_windows_non_float_processed</th>\n",
       "      <th>Type_containers</th>\n",
       "      <th>Type_headlamps</th>\n",
       "      <th>Type_tableware</th>\n",
       "      <th>Type_vehicle_windows_float_processed</th>\n",
       "    </tr>\n",
       "  </thead>\n",
       "  <tbody>\n",
       "    <tr>\n",
       "      <th>0</th>\n",
       "      <td>1</td>\n",
       "      <td>0</td>\n",
       "      <td>0</td>\n",
       "      <td>0</td>\n",
       "      <td>0</td>\n",
       "      <td>0</td>\n",
       "    </tr>\n",
       "    <tr>\n",
       "      <th>1</th>\n",
       "      <td>1</td>\n",
       "      <td>0</td>\n",
       "      <td>0</td>\n",
       "      <td>0</td>\n",
       "      <td>0</td>\n",
       "      <td>0</td>\n",
       "    </tr>\n",
       "    <tr>\n",
       "      <th>2</th>\n",
       "      <td>1</td>\n",
       "      <td>0</td>\n",
       "      <td>0</td>\n",
       "      <td>0</td>\n",
       "      <td>0</td>\n",
       "      <td>0</td>\n",
       "    </tr>\n",
       "    <tr>\n",
       "      <th>3</th>\n",
       "      <td>1</td>\n",
       "      <td>0</td>\n",
       "      <td>0</td>\n",
       "      <td>0</td>\n",
       "      <td>0</td>\n",
       "      <td>0</td>\n",
       "    </tr>\n",
       "    <tr>\n",
       "      <th>4</th>\n",
       "      <td>1</td>\n",
       "      <td>0</td>\n",
       "      <td>0</td>\n",
       "      <td>0</td>\n",
       "      <td>0</td>\n",
       "      <td>0</td>\n",
       "    </tr>\n",
       "  </tbody>\n",
       "</table>\n",
       "</div>"
      ],
      "text/plain": [
       "   Type_building_windows_float_processed  \\\n",
       "0                                      1   \n",
       "1                                      1   \n",
       "2                                      1   \n",
       "3                                      1   \n",
       "4                                      1   \n",
       "\n",
       "   Type_building_windows_non_float_processed  Type_containers  Type_headlamps  \\\n",
       "0                                          0                0               0   \n",
       "1                                          0                0               0   \n",
       "2                                          0                0               0   \n",
       "3                                          0                0               0   \n",
       "4                                          0                0               0   \n",
       "\n",
       "   Type_tableware  Type_vehicle_windows_float_processed  \n",
       "0               0                                     0  \n",
       "1               0                                     0  \n",
       "2               0                                     0  \n",
       "3               0                                     0  \n",
       "4               0                                     0  "
      ]
     },
     "execution_count": 5,
     "metadata": {},
     "output_type": "execute_result"
    }
   ],
   "source": [
    "X = dum_gls.iloc[:,:-6]\n",
    "y = dum_gls.iloc[:,-6:]\n",
    "y.head()"
   ]
  },
  {
   "cell_type": "code",
   "execution_count": 6,
   "metadata": {},
   "outputs": [
    {
     "data": {
      "text/plain": [
       "(214, 6)"
      ]
     },
     "execution_count": 6,
     "metadata": {},
     "output_type": "execute_result"
    }
   ],
   "source": [
    "y = y.values\n",
    "y.shape"
   ]
  },
  {
   "cell_type": "code",
   "execution_count": 7,
   "metadata": {
    "executionInfo": {
     "elapsed": 1285,
     "status": "ok",
     "timestamp": 1683179502308,
     "user": {
      "displayName": "Sanjay Sane",
      "userId": "07643709861745318184"
     },
     "user_tz": -330
    },
    "id": "EGEz_Td9DtuX"
   },
   "outputs": [],
   "source": [
    "scaler = MinMaxScaler()\n",
    "X_train, X_test, y_train, y_test = train_test_split(X, y, test_size = 0.3, \n",
    "                                   random_state=24,stratify=glass['Type'])\n",
    "X_scl_trn = scaler.fit_transform(X_train) \n",
    "X_scl_tst = scaler.transform(X_test) "
   ]
  },
  {
   "cell_type": "code",
   "execution_count": 8,
   "metadata": {},
   "outputs": [
    {
     "data": {
      "text/plain": [
       "((65, 9), (65, 6))"
      ]
     },
     "execution_count": 8,
     "metadata": {},
     "output_type": "execute_result"
    }
   ],
   "source": [
    "X_test.shape, y_test.shape"
   ]
  },
  {
   "cell_type": "code",
   "execution_count": 9,
   "metadata": {
    "colab": {
     "base_uri": "https://localhost:8080/"
    },
    "executionInfo": {
     "elapsed": 3,
     "status": "ok",
     "timestamp": 1683180139474,
     "user": {
      "displayName": "Sanjay Sane",
      "userId": "07643709861745318184"
     },
     "user_tz": -330
    },
    "id": "VxWSobXXDtuY",
    "outputId": "2362778d-49d1-434a-a5f2-9827f9fdc86c"
   },
   "outputs": [
    {
     "name": "stdout",
     "output_type": "stream",
     "text": [
      "torch.Size([149, 9])\n",
      "torch.Size([149, 6])\n"
     ]
    }
   ],
   "source": [
    "X_torch = torch.from_numpy(X_scl_trn)\n",
    "y_torch = torch.from_numpy(y_train)\n",
    "print(X_torch.size())\n",
    "print(y_torch.size())"
   ]
  },
  {
   "cell_type": "code",
   "execution_count": 10,
   "metadata": {
    "colab": {
     "base_uri": "https://localhost:8080/"
    },
    "executionInfo": {
     "elapsed": 2,
     "status": "ok",
     "timestamp": 1683179508131,
     "user": {
      "displayName": "Sanjay Sane",
      "userId": "07643709861745318184"
     },
     "user_tz": -330
    },
    "id": "PH1DSCQy-EXU",
    "outputId": "dee3d4a3-e0b5-4116-fad0-2c1765b92927"
   },
   "outputs": [
    {
     "data": {
      "text/plain": [
       "torch.Tensor"
      ]
     },
     "execution_count": 10,
     "metadata": {},
     "output_type": "execute_result"
    }
   ],
   "source": [
    "type(X_torch)"
   ]
  },
  {
   "cell_type": "code",
   "execution_count": 11,
   "metadata": {
    "colab": {
     "base_uri": "https://localhost:8080/"
    },
    "executionInfo": {
     "elapsed": 6,
     "status": "ok",
     "timestamp": 1683179625180,
     "user": {
      "displayName": "Sanjay Sane",
      "userId": "07643709861745318184"
     },
     "user_tz": -330
    },
    "id": "ptj_BzbAUptu",
    "outputId": "74172e39-52ae-43c9-84c9-260664940dc7"
   },
   "outputs": [
    {
     "data": {
      "text/plain": [
       "9"
      ]
     },
     "execution_count": 11,
     "metadata": {},
     "output_type": "execute_result"
    }
   ],
   "source": [
    "X_scl_trn.shape[1]"
   ]
  },
  {
   "cell_type": "markdown",
   "metadata": {},
   "source": [
    "#### Instantiate the `TensorDataset`"
   ]
  },
  {
   "cell_type": "code",
   "execution_count": 12,
   "metadata": {},
   "outputs": [],
   "source": [
    "joint_dataset = TensorDataset(X_torch.float(), y_torch.float())"
   ]
  },
  {
   "cell_type": "markdown",
   "metadata": {},
   "source": [
    "#### Data Loader"
   ]
  },
  {
   "cell_type": "code",
   "execution_count": 13,
   "metadata": {},
   "outputs": [],
   "source": [
    "torch.manual_seed(24)\n",
    "data_loader = DataLoader(joint_dataset, batch_size=16,shuffle=True,\n",
    "                         drop_last=False)"
   ]
  },
  {
   "cell_type": "markdown",
   "metadata": {},
   "source": [
    "### Model Definition"
   ]
  },
  {
   "cell_type": "code",
   "execution_count": 14,
   "metadata": {},
   "outputs": [],
   "source": [
    "torch.manual_seed(24)\n",
    "class MLPClassifier(torch.nn.Module):    \n",
    "    def __init__(self, num_features):\n",
    "        super().__init__()\n",
    "        self.linear1 = nn.Linear(in_features=num_features, out_features=15)\n",
    "        self.linear2 = nn.Linear(in_features=15, out_features=8)\n",
    "        self.linear3 = nn.Linear(in_features=8, out_features=6)\n",
    "        self.act1 = nn.SELU()\n",
    "        self.dropout = nn.Dropout(0.3)\n",
    "        self.act2 = nn.ReLU()\n",
    "        \n",
    "    def forward(self, x):\n",
    "        x = self.linear1(x)\n",
    "        x = self.dropout(x)\n",
    "        x = self.act1(x)\n",
    "        x = self.linear2(x)\n",
    "        x = self.act2(x) \n",
    "        output = self.linear3(x)\n",
    "        return output"
   ]
  },
  {
   "cell_type": "code",
   "execution_count": 15,
   "metadata": {},
   "outputs": [],
   "source": [
    "model = MLPClassifier(num_features = X_scl_trn.shape[1])"
   ]
  },
  {
   "cell_type": "code",
   "execution_count": 16,
   "metadata": {},
   "outputs": [
    {
     "name": "stdout",
     "output_type": "stream",
     "text": [
      "----------------------------------------------------------------\n",
      "        Layer (type)               Output Shape         Param #\n",
      "================================================================\n",
      "            Linear-1                [-1, 1, 15]             150\n",
      "           Dropout-2                [-1, 1, 15]               0\n",
      "              SELU-3                [-1, 1, 15]               0\n",
      "            Linear-4                 [-1, 1, 8]             128\n",
      "              ReLU-5                 [-1, 1, 8]               0\n",
      "            Linear-6                 [-1, 1, 6]              54\n",
      "================================================================\n",
      "Total params: 332\n",
      "Trainable params: 332\n",
      "Non-trainable params: 0\n",
      "----------------------------------------------------------------\n",
      "Input size (MB): 0.00\n",
      "Forward/backward pass size (MB): 0.00\n",
      "Params size (MB): 0.00\n",
      "Estimated Total Size (MB): 0.00\n",
      "----------------------------------------------------------------\n"
     ]
    }
   ],
   "source": [
    "summary(model, (1,X_scl_trn.shape[1]))"
   ]
  },
  {
   "cell_type": "code",
   "execution_count": 17,
   "metadata": {
    "colab": {
     "base_uri": "https://localhost:8080/"
    },
    "executionInfo": {
     "elapsed": 5,
     "status": "ok",
     "timestamp": 1683180046576,
     "user": {
      "displayName": "Sanjay Sane",
      "userId": "07643709861745318184"
     },
     "user_tz": -330
    },
    "id": "HvVACcd9Dtuc",
    "outputId": "aa120230-79ac-45f2-ee69-089b43c3b916"
   },
   "outputs": [],
   "source": [
    "criterion = torch.nn.CrossEntropyLoss()\n",
    "optimizer = torch.optim.Adagrad(model.parameters(), lr = 0.1)"
   ]
  },
  {
   "cell_type": "markdown",
   "metadata": {},
   "source": [
    "Generating predictions with default weights"
   ]
  },
  {
   "cell_type": "code",
   "execution_count": 18,
   "metadata": {
    "colab": {
     "base_uri": "https://localhost:8080/"
    },
    "executionInfo": {
     "elapsed": 1133,
     "status": "ok",
     "timestamp": 1683180154305,
     "user": {
      "displayName": "Sanjay Sane",
      "userId": "07643709861745318184"
     },
     "user_tz": -330
    },
    "id": "AQuAeAiBDtue",
    "outputId": "404fcc09-37be-4046-a484-4926bf948fe0"
   },
   "outputs": [
    {
     "data": {
      "text/plain": [
       "tensor([[-0.0372, -0.1083,  0.2224, -0.2943,  0.3321,  0.1703],\n",
       "        [-0.1372, -0.0409,  0.1656, -0.3878,  0.2538,  0.2478],\n",
       "        [-0.1156, -0.1052,  0.1654, -0.3457,  0.3441,  0.2353]],\n",
       "       grad_fn=<SliceBackward0>)"
      ]
     },
     "execution_count": 18,
     "metadata": {},
     "output_type": "execute_result"
    }
   ],
   "source": [
    "y_pred = model(X_torch.float())\n",
    "y_pred[:3]"
   ]
  },
  {
   "cell_type": "code",
   "execution_count": 19,
   "metadata": {},
   "outputs": [
    {
     "name": "stdout",
     "output_type": "stream",
     "text": [
      "torch.Size([149, 6])\n"
     ]
    }
   ],
   "source": [
    "print(y_torch.shape)"
   ]
  },
  {
   "cell_type": "code",
   "execution_count": 20,
   "metadata": {},
   "outputs": [
    {
     "name": "stdout",
     "output_type": "stream",
     "text": [
      "torch.Size([149, 6])\n",
      "torch.Size([149, 6])\n"
     ]
    }
   ],
   "source": [
    "#y_torch = y_torch.unsqueeze(1)\n",
    "print(y_torch.shape)\n",
    "print(y_pred.shape)"
   ]
  },
  {
   "cell_type": "markdown",
   "metadata": {},
   "source": [
    "### Initial Log Loss"
   ]
  },
  {
   "cell_type": "code",
   "execution_count": 21,
   "metadata": {},
   "outputs": [
    {
     "data": {
      "text/plain": [
       "tensor(1.9168, grad_fn=<DivBackward1>)"
      ]
     },
     "execution_count": 21,
     "metadata": {},
     "output_type": "execute_result"
    }
   ],
   "source": [
    "loss = criterion(y_pred, y_torch.float())\n",
    "loss"
   ]
  },
  {
   "cell_type": "code",
   "execution_count": 22,
   "metadata": {},
   "outputs": [
    {
     "name": "stdout",
     "output_type": "stream",
     "text": [
      "epoch:  1  train loss:  1.2292498350143433\n",
      "epoch:  101  train loss:  0.7457834482192993\n",
      "epoch:  201  train loss:  0.6400514841079712\n",
      "epoch:  301  train loss:  0.4183969497680664\n",
      "epoch:  401  train loss:  0.5487287640571594\n"
     ]
    }
   ],
   "source": [
    "for epoch in np.arange(0,500):\n",
    "    for i, batch in enumerate(data_loader, 1):\n",
    "      # Forward pass: Compute predicted y by passing x to the model\n",
    "      y_pred_prob = model(batch[0].float())\n",
    "\n",
    "      # Compute and print loss\n",
    "      loss = criterion(y_pred_prob, batch[1].float())\n",
    "\n",
    "      # Zero gradients, perform a backward pass, and update the weights.\n",
    "      optimizer.zero_grad()\n",
    "\n",
    "      # perform a backward pass (backpropagation)\n",
    "      loss.backward()\n",
    "\n",
    "      # Update the parameters\n",
    "      optimizer.step()\n",
    "    \n",
    "    if epoch%100 == 0:\n",
    "          print('epoch: ', epoch+1,' train loss: ', loss.item())"
   ]
  },
  {
   "cell_type": "markdown",
   "metadata": {},
   "source": [
    "### Training Set Log Loss"
   ]
  },
  {
   "cell_type": "code",
   "execution_count": 23,
   "metadata": {},
   "outputs": [
    {
     "data": {
      "text/plain": [
       "tensor(0.6801, grad_fn=<DivBackward1>)"
      ]
     },
     "execution_count": 23,
     "metadata": {},
     "output_type": "execute_result"
    }
   ],
   "source": [
    "loss"
   ]
  },
  {
   "cell_type": "code",
   "execution_count": 24,
   "metadata": {
    "colab": {
     "base_uri": "https://localhost:8080/"
    },
    "executionInfo": {
     "elapsed": 5,
     "status": "ok",
     "timestamp": 1683180986915,
     "user": {
      "displayName": "Sanjay Sane",
      "userId": "07643709861745318184"
     },
     "user_tz": -330
    },
    "id": "Vfr6de9mDtuj",
    "outputId": "58ebe732-7c5e-4fbe-8817-1aabc33f86f5"
   },
   "outputs": [
    {
     "data": {
      "text/plain": [
       "torch.Tensor"
      ]
     },
     "execution_count": 24,
     "metadata": {},
     "output_type": "execute_result"
    }
   ],
   "source": [
    "X_torch_test = torch.from_numpy(X_scl_tst)\n",
    "type(X_torch_test)"
   ]
  },
  {
   "cell_type": "code",
   "execution_count": 25,
   "metadata": {},
   "outputs": [
    {
     "data": {
      "text/plain": [
       "tensor([[7.9264e-01, 1.0527e-01, 2.3254e-04, 8.9085e-08, 4.1496e-05, 1.0182e-01],\n",
       "        [1.4050e-27, 5.4203e-07, 3.1321e-07, 1.0000e+00, 9.8856e-11, 8.4111e-30],\n",
       "        [2.5006e-01, 5.9942e-01, 2.6810e-04, 8.7735e-04, 1.2324e-03, 1.4814e-01],\n",
       "        [7.1076e-01, 7.0876e-02, 4.8321e-05, 3.2650e-07, 4.1337e-04, 2.1790e-01],\n",
       "        [7.1736e-01, 4.9334e-02, 2.4538e-03, 3.6557e-06, 3.6998e-02, 1.9385e-01],\n",
       "        [4.7164e-01, 3.9049e-01, 1.5090e-07, 6.9381e-08, 2.1068e-08, 1.3787e-01],\n",
       "        [6.2587e-09, 6.2392e-02, 6.0333e-02, 9.2028e-03, 8.6807e-01, 3.2457e-10],\n",
       "        [1.6377e-01, 8.1824e-01, 1.2927e-06, 7.1792e-07, 1.1386e-07, 1.7989e-02],\n",
       "        [6.1104e-01, 1.3830e-01, 8.1996e-05, 2.7242e-04, 1.5564e-03, 2.4875e-01],\n",
       "        [4.5682e-01, 3.7607e-01, 3.6318e-06, 1.2234e-07, 1.6893e-07, 1.6711e-01],\n",
       "        [7.2670e-16, 3.1144e-02, 9.7804e-04, 9.6785e-01, 2.4229e-05, 1.5338e-17],\n",
       "        [7.5646e-04, 1.0398e-01, 8.9098e-04, 6.3064e-01, 2.6358e-01, 1.4420e-04],\n",
       "        [4.2551e-02, 9.5034e-01, 5.7934e-07, 1.6571e-06, 7.4941e-08, 7.1103e-03],\n",
       "        [6.5943e-01, 1.4858e-01, 6.4312e-05, 1.4650e-06, 1.0343e-05, 1.9192e-01],\n",
       "        [3.3533e-01, 6.1644e-01, 2.7248e-07, 7.3261e-09, 2.7271e-10, 4.8227e-02],\n",
       "        [2.0375e-23, 1.6560e-06, 5.2421e-06, 9.9999e-01, 9.9756e-09, 2.5412e-24],\n",
       "        [1.0055e-23, 2.4342e-05, 7.4038e-04, 9.9924e-01, 2.2378e-09, 1.1605e-25],\n",
       "        [5.4832e-01, 3.1241e-01, 1.2063e-06, 1.3445e-07, 5.1816e-08, 1.3926e-01],\n",
       "        [2.7335e-03, 5.2816e-01, 4.6686e-01, 1.4523e-05, 8.4158e-05, 2.1470e-03],\n",
       "        [2.4108e-02, 8.3767e-01, 1.1849e-01, 3.6345e-03, 9.5680e-04, 1.5147e-02],\n",
       "        [5.1650e-01, 1.6298e-01, 1.6044e-03, 4.4440e-05, 4.8388e-04, 3.1839e-01],\n",
       "        [1.6207e-18, 2.0985e-04, 7.5468e-07, 9.9979e-01, 7.4991e-08, 1.2818e-19],\n",
       "        [2.2497e-01, 7.4707e-01, 1.1557e-05, 2.4811e-06, 3.3016e-05, 2.7918e-02],\n",
       "        [1.5034e-02, 9.7871e-01, 4.8842e-04, 3.2280e-03, 5.3310e-04, 2.0021e-03],\n",
       "        [2.5594e-01, 7.1362e-01, 1.0725e-05, 1.4435e-07, 1.6678e-07, 3.0426e-02],\n",
       "        [7.1029e-01, 8.2153e-02, 3.8983e-05, 5.1558e-06, 7.7315e-05, 2.0744e-01],\n",
       "        [5.7426e-02, 7.5809e-01, 2.2920e-02, 1.5460e-03, 1.4964e-01, 1.0375e-02],\n",
       "        [5.4825e-01, 1.9935e-01, 1.6639e-05, 1.6325e-05, 2.3373e-04, 2.5214e-01],\n",
       "        [7.2655e-01, 1.3187e-01, 1.6715e-06, 4.7775e-08, 7.7094e-08, 1.4158e-01],\n",
       "        [6.8595e-01, 1.1410e-01, 2.7851e-05, 5.8266e-07, 3.2269e-06, 1.9992e-01],\n",
       "        [6.9520e-01, 1.6824e-01, 1.3533e-05, 6.1195e-07, 1.9808e-06, 1.3655e-01],\n",
       "        [3.1604e-29, 2.7719e-07, 2.4802e-06, 1.0000e+00, 1.8004e-10, 4.7110e-31],\n",
       "        [6.5641e-01, 1.2457e-01, 1.4570e-04, 1.3420e-05, 1.6273e-04, 2.1870e-01],\n",
       "        [5.8788e-08, 3.2291e-02, 2.1763e-03, 3.1311e-01, 6.5242e-01, 3.8373e-10],\n",
       "        [2.7088e-01, 6.7107e-01, 1.7072e-06, 4.5684e-08, 3.6520e-09, 5.8047e-02],\n",
       "        [5.7180e-01, 3.2760e-01, 7.6652e-07, 2.1856e-08, 9.5038e-09, 1.0060e-01],\n",
       "        [7.0949e-01, 1.5052e-01, 7.0264e-07, 2.1310e-08, 2.4272e-08, 1.3999e-01],\n",
       "        [5.4500e-01, 3.4314e-01, 3.4227e-06, 5.5173e-08, 2.5163e-08, 1.1186e-01],\n",
       "        [5.3654e-01, 3.2915e-01, 5.4230e-08, 7.0896e-09, 1.6587e-09, 1.3430e-01],\n",
       "        [6.2921e-01, 2.4397e-01, 5.3369e-05, 5.3346e-07, 2.2399e-06, 1.2676e-01],\n",
       "        [1.3512e-01, 8.3518e-01, 8.8886e-05, 6.2962e-04, 2.2862e-04, 2.8748e-02],\n",
       "        [6.4685e-01, 1.1904e-01, 8.7418e-06, 5.4006e-07, 4.6815e-05, 2.3406e-01],\n",
       "        [6.3213e-01, 1.5837e-01, 1.1128e-06, 3.3097e-07, 1.1525e-06, 2.0950e-01],\n",
       "        [7.8011e-01, 1.3836e-01, 3.8923e-07, 2.0896e-09, 1.0871e-08, 8.1531e-02],\n",
       "        [4.9452e-18, 1.9713e-03, 8.0825e-04, 9.9722e-01, 2.9599e-06, 1.9408e-19],\n",
       "        [2.4895e-18, 2.3451e-04, 1.0202e-05, 9.9975e-01, 2.4620e-06, 4.5523e-20],\n",
       "        [4.9670e-01, 4.3101e-01, 5.4748e-06, 4.8351e-06, 7.2668e-07, 7.2280e-02],\n",
       "        [7.7342e-02, 9.1001e-01, 2.5834e-04, 1.6858e-03, 1.5539e-03, 9.1489e-03],\n",
       "        [4.5432e-01, 4.1932e-01, 8.1768e-06, 8.3486e-06, 1.2895e-06, 1.2634e-01],\n",
       "        [5.3998e-06, 1.7637e-01, 7.3131e-01, 8.8810e-02, 3.5020e-03, 2.4765e-06],\n",
       "        [7.8661e-01, 1.3490e-01, 2.0082e-06, 4.2464e-08, 3.2388e-08, 7.8496e-02],\n",
       "        [5.7597e-01, 2.2612e-01, 4.1339e-04, 5.8351e-05, 3.6614e-04, 1.9707e-01],\n",
       "        [1.0483e-12, 2.7589e-02, 9.6672e-01, 5.6743e-03, 2.0109e-05, 3.9605e-13],\n",
       "        [5.4796e-01, 2.5969e-01, 8.6417e-07, 2.6125e-07, 4.4140e-07, 1.9235e-01],\n",
       "        [4.7960e-06, 9.9191e-01, 8.0801e-03, 3.2019e-08, 9.5054e-06, 5.6343e-08],\n",
       "        [6.9639e-01, 2.0812e-01, 1.3851e-04, 7.9771e-07, 2.2676e-04, 9.5128e-02],\n",
       "        [1.5616e-22, 4.9197e-04, 2.7838e-06, 9.9951e-01, 1.9213e-12, 1.5821e-23],\n",
       "        [8.4820e-01, 5.0522e-02, 3.5973e-06, 3.5710e-09, 1.5787e-07, 1.0127e-01],\n",
       "        [4.8669e-01, 2.9194e-01, 8.3441e-04, 1.6352e-03, 5.7928e-03, 2.1310e-01],\n",
       "        [1.7401e-01, 7.6109e-01, 1.3862e-05, 4.1362e-05, 7.3524e-06, 6.4838e-02],\n",
       "        [6.7419e-01, 1.6385e-01, 2.3221e-06, 2.0784e-07, 4.8975e-07, 1.6196e-01],\n",
       "        [7.3473e-01, 4.9830e-03, 1.9728e-05, 5.4529e-09, 3.7887e-04, 2.5989e-01],\n",
       "        [6.4540e-20, 1.4874e-06, 9.8492e-01, 1.5081e-02, 4.3479e-15, 3.5103e-17],\n",
       "        [7.1741e-01, 8.0739e-02, 1.7184e-06, 2.3664e-08, 3.8725e-07, 2.0185e-01],\n",
       "        [3.9821e-01, 4.9733e-01, 2.4881e-05, 3.0380e-05, 1.2002e-05, 1.0439e-01]],\n",
       "       grad_fn=<SoftmaxBackward0>)"
      ]
     },
     "execution_count": 25,
     "metadata": {},
     "output_type": "execute_result"
    }
   ],
   "source": [
    "y_wt_sum = model(X_torch_test.float()) \n",
    "softmax = nn.Softmax(dim=1)\n",
    "pred_proba = softmax(y_wt_sum)\n",
    "pred_proba"
   ]
  },
  {
   "cell_type": "code",
   "execution_count": 26,
   "metadata": {},
   "outputs": [
    {
     "data": {
      "text/plain": [
       "torch.Size([65, 6])"
      ]
     },
     "execution_count": 26,
     "metadata": {},
     "output_type": "execute_result"
    }
   ],
   "source": [
    "pred_proba.shape"
   ]
  },
  {
   "cell_type": "markdown",
   "metadata": {},
   "source": [
    "`detach().numpy()` converts `torch.Tensor` into `numpy` object"
   ]
  },
  {
   "cell_type": "code",
   "execution_count": 27,
   "metadata": {},
   "outputs": [
    {
     "data": {
      "text/plain": [
       "array([0, 3, 1, 0, 0, 0, 4, 1, 0, 0, 3, 3, 1, 0, 1, 3, 3, 0, 1, 1, 0, 3,\n",
       "       1, 1, 1, 0, 1, 0, 0, 0, 0, 3, 0, 4, 1, 0, 0, 0, 0, 0, 1, 0, 0, 0,\n",
       "       3, 3, 0, 1, 0, 2, 0, 0, 2, 0, 1, 0, 3, 0, 0, 1, 0, 0, 2, 0, 1],\n",
       "      dtype=int64)"
      ]
     },
     "execution_count": 27,
     "metadata": {},
     "output_type": "execute_result"
    }
   ],
   "source": [
    "y_pred = np.argmax(pred_proba.detach().numpy(), axis=1 )\n",
    "y_pred"
   ]
  },
  {
   "cell_type": "code",
   "execution_count": 28,
   "metadata": {
    "colab": {
     "base_uri": "https://localhost:8080/"
    },
    "executionInfo": {
     "elapsed": 2,
     "status": "ok",
     "timestamp": 1683181035030,
     "user": {
      "displayName": "Sanjay Sane",
      "userId": "07643709861745318184"
     },
     "user_tz": -330
    },
    "id": "NbUKnL7LDtuj",
    "outputId": "d95b4da8-fffb-4764-bb93-ec279d8517be"
   },
   "outputs": [
    {
     "data": {
      "text/plain": [
       "array([1, 3, 0, 0, 0], dtype=int64)"
      ]
     },
     "execution_count": 28,
     "metadata": {},
     "output_type": "execute_result"
    }
   ],
   "source": [
    "y_test_lbl = np.argmax(y_test, axis=1)\n",
    "y_test_lbl[:5]"
   ]
  },
  {
   "cell_type": "markdown",
   "metadata": {},
   "source": [
    "### Test Set Accuracy Score"
   ]
  },
  {
   "cell_type": "code",
   "execution_count": 29,
   "metadata": {
    "colab": {
     "base_uri": "https://localhost:8080/"
    },
    "executionInfo": {
     "elapsed": 1191,
     "status": "ok",
     "timestamp": 1683181041369,
     "user": {
      "displayName": "Sanjay Sane",
      "userId": "07643709861745318184"
     },
     "user_tz": -330
    },
    "id": "z6Xtwll3Dtuk",
    "outputId": "7e332c79-60e1-4206-ea9e-048e54895533"
   },
   "outputs": [
    {
     "name": "stdout",
     "output_type": "stream",
     "text": [
      "0.6461538461538462\n"
     ]
    }
   ],
   "source": [
    "print(accuracy_score(y_test_lbl,y_pred))"
   ]
  },
  {
   "cell_type": "code",
   "execution_count": 30,
   "metadata": {},
   "outputs": [
    {
     "data": {
      "text/plain": [
       "torch.Size([65, 6])"
      ]
     },
     "execution_count": 30,
     "metadata": {},
     "output_type": "execute_result"
    }
   ],
   "source": [
    "pred_proba.shape"
   ]
  },
  {
   "cell_type": "markdown",
   "metadata": {},
   "source": [
    "### Test Set Log Loss"
   ]
  },
  {
   "cell_type": "code",
   "execution_count": 31,
   "metadata": {},
   "outputs": [
    {
     "data": {
      "text/plain": [
       "1.258572856843681"
      ]
     },
     "execution_count": 31,
     "metadata": {},
     "output_type": "execute_result"
    }
   ],
   "source": [
    "log_loss(y_test_lbl, pred_proba.detach().numpy())"
   ]
  },
  {
   "cell_type": "code",
   "execution_count": null,
   "metadata": {},
   "outputs": [],
   "source": []
  }
 ],
 "metadata": {
  "accelerator": "GPU",
  "colab": {
   "provenance": []
  },
  "kernelspec": {
   "display_name": "Python 3 (ipykernel)",
   "language": "python",
   "name": "python3"
  },
  "language_info": {
   "codemirror_mode": {
    "name": "ipython",
    "version": 3
   },
   "file_extension": ".py",
   "mimetype": "text/x-python",
   "name": "python",
   "nbconvert_exporter": "python",
   "pygments_lexer": "ipython3",
   "version": "3.12.4"
  }
 },
 "nbformat": 4,
 "nbformat_minor": 4
}
