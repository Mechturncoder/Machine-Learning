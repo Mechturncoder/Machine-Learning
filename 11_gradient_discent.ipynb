{
 "cells": [
  {
   "cell_type": "code",
   "execution_count": 1,
   "metadata": {},
   "outputs": [],
   "source": [
    "import pandas as pd\n",
    "import numpy as np"
   ]
  },
  {
   "cell_type": "code",
   "execution_count": 2,
   "metadata": {},
   "outputs": [],
   "source": [
    "df = pd.DataFrame({'x':[0.2,1.2,1,1.4,-1.5,0.5,-0.5]})\n",
    "df['y'] = 3*df['x'] + 5"
   ]
  },
  {
   "cell_type": "code",
   "execution_count": 3,
   "metadata": {},
   "outputs": [
    {
     "data": {
      "text/html": [
       "<div>\n",
       "<style scoped>\n",
       "    .dataframe tbody tr th:only-of-type {\n",
       "        vertical-align: middle;\n",
       "    }\n",
       "\n",
       "    .dataframe tbody tr th {\n",
       "        vertical-align: top;\n",
       "    }\n",
       "\n",
       "    .dataframe thead th {\n",
       "        text-align: right;\n",
       "    }\n",
       "</style>\n",
       "<table border=\"1\" class=\"dataframe\">\n",
       "  <thead>\n",
       "    <tr style=\"text-align: right;\">\n",
       "      <th></th>\n",
       "      <th>x</th>\n",
       "      <th>y</th>\n",
       "    </tr>\n",
       "  </thead>\n",
       "  <tbody>\n",
       "    <tr>\n",
       "      <th>0</th>\n",
       "      <td>0.2</td>\n",
       "      <td>5.6</td>\n",
       "    </tr>\n",
       "    <tr>\n",
       "      <th>1</th>\n",
       "      <td>1.2</td>\n",
       "      <td>8.6</td>\n",
       "    </tr>\n",
       "    <tr>\n",
       "      <th>2</th>\n",
       "      <td>1.0</td>\n",
       "      <td>8.0</td>\n",
       "    </tr>\n",
       "    <tr>\n",
       "      <th>3</th>\n",
       "      <td>1.4</td>\n",
       "      <td>9.2</td>\n",
       "    </tr>\n",
       "    <tr>\n",
       "      <th>4</th>\n",
       "      <td>-1.5</td>\n",
       "      <td>0.5</td>\n",
       "    </tr>\n",
       "    <tr>\n",
       "      <th>5</th>\n",
       "      <td>0.5</td>\n",
       "      <td>6.5</td>\n",
       "    </tr>\n",
       "    <tr>\n",
       "      <th>6</th>\n",
       "      <td>-0.5</td>\n",
       "      <td>3.5</td>\n",
       "    </tr>\n",
       "  </tbody>\n",
       "</table>\n",
       "</div>"
      ],
      "text/plain": [
       "     x    y\n",
       "0  0.2  5.6\n",
       "1  1.2  8.6\n",
       "2  1.0  8.0\n",
       "3  1.4  9.2\n",
       "4 -1.5  0.5\n",
       "5  0.5  6.5\n",
       "6 -0.5  3.5"
      ]
     },
     "execution_count": 3,
     "metadata": {},
     "output_type": "execute_result"
    }
   ],
   "source": [
    "df"
   ]
  },
  {
   "cell_type": "code",
   "execution_count": 9,
   "metadata": {},
   "outputs": [],
   "source": [
    "w,b = 0.3,0.1\n",
    "df['y_pred'] = w*df['x']+ b"
   ]
  },
  {
   "cell_type": "code",
   "execution_count": 11,
   "metadata": {},
   "outputs": [],
   "source": [
    "df['error'] = df['y']-df['y_pred']"
   ]
  },
  {
   "cell_type": "code",
   "execution_count": null,
   "metadata": {},
   "outputs": [],
   "source": [
    "\n",
    "df['error^2'] = df['error']**2"
   ]
  },
  {
   "cell_type": "code",
   "execution_count": 15,
   "metadata": {},
   "outputs": [],
   "source": [
    "\n",
    "df['error*x'] = df['error']*df['x']"
   ]
  },
  {
   "cell_type": "code",
   "execution_count": 16,
   "metadata": {},
   "outputs": [
    {
     "data": {
      "text/html": [
       "<div>\n",
       "<style scoped>\n",
       "    .dataframe tbody tr th:only-of-type {\n",
       "        vertical-align: middle;\n",
       "    }\n",
       "\n",
       "    .dataframe tbody tr th {\n",
       "        vertical-align: top;\n",
       "    }\n",
       "\n",
       "    .dataframe thead th {\n",
       "        text-align: right;\n",
       "    }\n",
       "</style>\n",
       "<table border=\"1\" class=\"dataframe\">\n",
       "  <thead>\n",
       "    <tr style=\"text-align: right;\">\n",
       "      <th></th>\n",
       "      <th>x</th>\n",
       "      <th>y</th>\n",
       "      <th>y_pred</th>\n",
       "      <th>error</th>\n",
       "      <th>error^2</th>\n",
       "      <th>error*x</th>\n",
       "    </tr>\n",
       "  </thead>\n",
       "  <tbody>\n",
       "    <tr>\n",
       "      <th>0</th>\n",
       "      <td>0.2</td>\n",
       "      <td>5.6</td>\n",
       "      <td>0.16</td>\n",
       "      <td>5.44</td>\n",
       "      <td>29.5936</td>\n",
       "      <td>1.088</td>\n",
       "    </tr>\n",
       "    <tr>\n",
       "      <th>1</th>\n",
       "      <td>1.2</td>\n",
       "      <td>8.6</td>\n",
       "      <td>0.46</td>\n",
       "      <td>8.14</td>\n",
       "      <td>66.2596</td>\n",
       "      <td>9.768</td>\n",
       "    </tr>\n",
       "    <tr>\n",
       "      <th>2</th>\n",
       "      <td>1.0</td>\n",
       "      <td>8.0</td>\n",
       "      <td>0.40</td>\n",
       "      <td>7.60</td>\n",
       "      <td>57.7600</td>\n",
       "      <td>7.600</td>\n",
       "    </tr>\n",
       "    <tr>\n",
       "      <th>3</th>\n",
       "      <td>1.4</td>\n",
       "      <td>9.2</td>\n",
       "      <td>0.52</td>\n",
       "      <td>8.68</td>\n",
       "      <td>75.3424</td>\n",
       "      <td>12.152</td>\n",
       "    </tr>\n",
       "    <tr>\n",
       "      <th>4</th>\n",
       "      <td>-1.5</td>\n",
       "      <td>0.5</td>\n",
       "      <td>-0.35</td>\n",
       "      <td>0.85</td>\n",
       "      <td>0.7225</td>\n",
       "      <td>-1.275</td>\n",
       "    </tr>\n",
       "    <tr>\n",
       "      <th>5</th>\n",
       "      <td>0.5</td>\n",
       "      <td>6.5</td>\n",
       "      <td>0.25</td>\n",
       "      <td>6.25</td>\n",
       "      <td>39.0625</td>\n",
       "      <td>3.125</td>\n",
       "    </tr>\n",
       "    <tr>\n",
       "      <th>6</th>\n",
       "      <td>-0.5</td>\n",
       "      <td>3.5</td>\n",
       "      <td>-0.05</td>\n",
       "      <td>3.55</td>\n",
       "      <td>12.6025</td>\n",
       "      <td>-1.775</td>\n",
       "    </tr>\n",
       "  </tbody>\n",
       "</table>\n",
       "</div>"
      ],
      "text/plain": [
       "     x    y  y_pred  error  error^2  error*x\n",
       "0  0.2  5.6    0.16   5.44  29.5936    1.088\n",
       "1  1.2  8.6    0.46   8.14  66.2596    9.768\n",
       "2  1.0  8.0    0.40   7.60  57.7600    7.600\n",
       "3  1.4  9.2    0.52   8.68  75.3424   12.152\n",
       "4 -1.5  0.5   -0.35   0.85   0.7225   -1.275\n",
       "5  0.5  6.5    0.25   6.25  39.0625    3.125\n",
       "6 -0.5  3.5   -0.05   3.55  12.6025   -1.775"
      ]
     },
     "execution_count": 16,
     "metadata": {},
     "output_type": "execute_result"
    }
   ],
   "source": [
    "df"
   ]
  },
  {
   "cell_type": "code",
   "execution_count": 19,
   "metadata": {},
   "outputs": [],
   "source": [
    "loss = df['error^2'].mean()*.5\n"
   ]
  },
  {
   "cell_type": "code",
   "execution_count": 23,
   "metadata": {},
   "outputs": [],
   "source": [
    "eta = 0.2\n",
    "dw = -df['error*x'].mean()\n",
    "db = -df['error'].mean()"
   ]
  },
  {
   "cell_type": "code",
   "execution_count": 24,
   "metadata": {},
   "outputs": [
    {
     "data": {
      "text/plain": [
       "(-4.383285714285714, -5.7871428571428565)"
      ]
     },
     "execution_count": 24,
     "metadata": {},
     "output_type": "execute_result"
    }
   ],
   "source": [
    "dw, db"
   ]
  },
  {
   "cell_type": "code",
   "execution_count": 25,
   "metadata": {},
   "outputs": [
    {
     "data": {
      "text/plain": [
       "(1.1766571428571428, 1.2574285714285713)"
      ]
     },
     "execution_count": 25,
     "metadata": {},
     "output_type": "execute_result"
    }
   ],
   "source": [
    "new_w = w - eta*dw\n",
    "new_b = b - eta*db\n",
    "new_w, new_b"
   ]
  },
  {
   "cell_type": "code",
   "execution_count": 29,
   "metadata": {},
   "outputs": [
    {
     "name": "stdout",
     "output_type": "stream",
     "text": [
      "Loss : 20.095935714285712 for w = 0.3 and b = 0.1 \n",
      "Loss : 10.952997757662391 for w = 1.1766571428571428 and b = 1.2574285714285713 \n",
      "Loss : 6.009611558539441 for w = 1.7971642693877552 and b = 2.1257625306122447 \n",
      "Loss : 3.32644496238763 for w = 2.2331395574647233 and b = 2.7796535153586004 \n",
      "Loss : 1.862421697322274 for w = 2.536583085936262 and b = 3.274116498510627 \n",
      "Loss : 1.0579802312749422 for w = 2.745197362094657 and b = 3.649746310304119 \n",
      "Loss : 0.6118539055559408 for w = 2.8862720607472268 and b = 3.9365412215913604 \n",
      "Loss : 0.36146215017489947 for w = 2.97951946284915 and b = 4.156706527566842 \n",
      "Loss : 0.21878647813951807 for w = 3.0391431785266034 and b = 4.326711085923386 \n",
      "Loss : 0.13596771317963877 for w = 3.0753467513486017 and b = 4.458796602721247 \n",
      "Loss : 0.08683021326976892 for w = 3.0954331705355926 and b = 4.562085924231232 \n",
      "Loss : 0.0569457917433155 for w = 3.104605681338943 and b = 4.64339741674979 \n",
      "Loss : 0.038279964967667786 for w = 3.106550569700328 and b = 4.707843845768987 \n",
      "Loss : 0.026299662085132566 for w = 3.103860871374213 and b = 4.759273182034882 \n",
      "Loss : 0.018405094819252035 for w = 3.0983440718353323 and b = 4.800593402651885 \n",
      "Loss : 0.013075415489647428 for w = 3.091245251761179 and b = 4.834012111686615 \n",
      "Loss : 0.009400214835485058 for w = 3.083408645559976 and b = 4.861213572804986 \n",
      "Loss : 0.006820379388128463 for w = 3.075394377587756 and b = 4.883489718678619 \n",
      "Loss : 0.0049831336138752135 for w = 3.067562608221562 and b = 4.901837287272842 \n",
      "Loss : 0.003659787994669 for w = 3.06013401068326 and b = 4.9170300012779995 \n",
      "Loss : 0.0026982367327188055 for w = 3.053233080976059 and b = 4.929672337463214 \n",
      "Loss : 0.0019949404206157503 for w = 3.0469190173079657 and b = 4.9402396960778585 \n",
      "Loss : 0.0014779982814683344 for w = 3.04120761629587 and b = 4.949108507153477 \n",
      "Loss : 0.0010966483562195148 for w = 3.0360866926495755 and b = 4.9565788766519105 \n",
      "Loss : 0.0008145751612090791 for w = 3.031526843036723 and b = 4.96289169009027 \n",
      "Loss : 0.0006055287265789208 for w = 3.0274888747898183 and b = 4.968241588101232 \n"
     ]
    }
   ],
   "source": [
    "epoch = 26\n",
    "w,b = 0.3,0.1\n",
    "for i in range(epoch):\n",
    "    \n",
    "    df['y_pred'] = w*df['x']+ b\n",
    "    df['error'] = df['y']-df['y_pred']\n",
    "    df['error^2'] = df['error']**2\n",
    "    df['error*x'] = df['error']*df['x']\n",
    "    loss = df['error^2'].mean()*.5\n",
    "    eta = 0.2\n",
    "    dw = -df['error*x'].mean()\n",
    "    db = -df['error'].mean()\n",
    "    new_w = w - eta*dw\n",
    "    new_b = b - eta*db\n",
    "    print(f\"Loss : {loss} for w = {w} and b = {b} \")\n",
    "    w,b = new_w,new_b"
   ]
  },
  {
   "cell_type": "code",
   "execution_count": null,
   "metadata": {},
   "outputs": [],
   "source": [
    "df = pd.DataFrame({'x':[0.2,1.2,1,1.4,-1.5,0.5,-0.5]})\n",
    "df['y'] = 3*df['x'] + 5"
   ]
  }
 ],
 "metadata": {
  "kernelspec": {
   "display_name": "dung",
   "language": "python",
   "name": "python3"
  },
  "language_info": {
   "codemirror_mode": {
    "name": "ipython",
    "version": 3
   },
   "file_extension": ".py",
   "mimetype": "text/x-python",
   "name": "python",
   "nbconvert_exporter": "python",
   "pygments_lexer": "ipython3",
   "version": "3.10.15"
  }
 },
 "nbformat": 4,
 "nbformat_minor": 2
}
