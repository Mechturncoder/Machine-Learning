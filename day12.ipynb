{
 "cells": [
  {
   "cell_type": "code",
   "execution_count": 1,
   "metadata": {},
   "outputs": [],
   "source": [
    "import torch\n",
    "import pandas as pd\n",
    "import numpy as np\n",
    "import torch.nn as nn\n",
    "from sklearn.model_selection import train_test_split \n",
    "from sklearn.metrics import accuracy_score, log_loss\n",
    "from torchsummary import summary\n",
    "from sklearn.preprocessing import MinMaxScaler, LabelEncoder, OneHotEncoder\n",
    "import matplotlib.pyplot as plt"
   ]
  },
  {
   "cell_type": "code",
   "execution_count": 34,
   "metadata": {},
   "outputs": [
    {
     "data": {
      "text/html": [
       "<div>\n",
       "<style scoped>\n",
       "    .dataframe tbody tr th:only-of-type {\n",
       "        vertical-align: middle;\n",
       "    }\n",
       "\n",
       "    .dataframe tbody tr th {\n",
       "        vertical-align: top;\n",
       "    }\n",
       "\n",
       "    .dataframe thead th {\n",
       "        text-align: right;\n",
       "    }\n",
       "</style>\n",
       "<table border=\"1\" class=\"dataframe\">\n",
       "  <thead>\n",
       "    <tr style=\"text-align: right;\">\n",
       "      <th></th>\n",
       "      <th>Class</th>\n",
       "      <th>region.centroid.col</th>\n",
       "      <th>region.centroid.row</th>\n",
       "      <th>region.pixel.count</th>\n",
       "      <th>short.line.density.5</th>\n",
       "      <th>short.line.density.2</th>\n",
       "      <th>vedge.mean</th>\n",
       "      <th>vegde.sd</th>\n",
       "      <th>hedge.mean</th>\n",
       "      <th>hedge.sd</th>\n",
       "      <th>intensity.mean</th>\n",
       "      <th>rawred.mean</th>\n",
       "      <th>rawblue.mean</th>\n",
       "      <th>rawgreen.mean</th>\n",
       "      <th>exred.mean</th>\n",
       "      <th>exblue.mean</th>\n",
       "      <th>exgreen.mean</th>\n",
       "      <th>value.mean</th>\n",
       "      <th>saturation.mean</th>\n",
       "      <th>hue-mean</th>\n",
       "    </tr>\n",
       "  </thead>\n",
       "  <tbody>\n",
       "    <tr>\n",
       "      <th>0</th>\n",
       "      <td>BRICKFACE</td>\n",
       "      <td>188</td>\n",
       "      <td>133</td>\n",
       "      <td>9</td>\n",
       "      <td>0.0</td>\n",
       "      <td>0.0</td>\n",
       "      <td>0.333333</td>\n",
       "      <td>0.266667</td>\n",
       "      <td>0.500000</td>\n",
       "      <td>0.077778</td>\n",
       "      <td>6.666666</td>\n",
       "      <td>8.333334</td>\n",
       "      <td>7.777778</td>\n",
       "      <td>3.888889</td>\n",
       "      <td>5.000000</td>\n",
       "      <td>3.333333</td>\n",
       "      <td>-8.333333</td>\n",
       "      <td>8.444445</td>\n",
       "      <td>0.538580</td>\n",
       "      <td>-0.924817</td>\n",
       "    </tr>\n",
       "    <tr>\n",
       "      <th>1</th>\n",
       "      <td>BRICKFACE</td>\n",
       "      <td>105</td>\n",
       "      <td>139</td>\n",
       "      <td>9</td>\n",
       "      <td>0.0</td>\n",
       "      <td>0.0</td>\n",
       "      <td>0.277778</td>\n",
       "      <td>0.107407</td>\n",
       "      <td>0.833333</td>\n",
       "      <td>0.522222</td>\n",
       "      <td>6.111111</td>\n",
       "      <td>7.555555</td>\n",
       "      <td>7.222222</td>\n",
       "      <td>3.555556</td>\n",
       "      <td>4.333334</td>\n",
       "      <td>3.333333</td>\n",
       "      <td>-7.666666</td>\n",
       "      <td>7.555555</td>\n",
       "      <td>0.532628</td>\n",
       "      <td>-0.965946</td>\n",
       "    </tr>\n",
       "    <tr>\n",
       "      <th>2</th>\n",
       "      <td>BRICKFACE</td>\n",
       "      <td>34</td>\n",
       "      <td>137</td>\n",
       "      <td>9</td>\n",
       "      <td>0.0</td>\n",
       "      <td>0.0</td>\n",
       "      <td>0.500000</td>\n",
       "      <td>0.166667</td>\n",
       "      <td>1.111111</td>\n",
       "      <td>0.474074</td>\n",
       "      <td>5.851852</td>\n",
       "      <td>7.777778</td>\n",
       "      <td>6.444445</td>\n",
       "      <td>3.333333</td>\n",
       "      <td>5.777778</td>\n",
       "      <td>1.777778</td>\n",
       "      <td>-7.555555</td>\n",
       "      <td>7.777778</td>\n",
       "      <td>0.573633</td>\n",
       "      <td>-0.744272</td>\n",
       "    </tr>\n",
       "    <tr>\n",
       "      <th>3</th>\n",
       "      <td>BRICKFACE</td>\n",
       "      <td>39</td>\n",
       "      <td>111</td>\n",
       "      <td>9</td>\n",
       "      <td>0.0</td>\n",
       "      <td>0.0</td>\n",
       "      <td>0.722222</td>\n",
       "      <td>0.374074</td>\n",
       "      <td>0.888889</td>\n",
       "      <td>0.429629</td>\n",
       "      <td>6.037037</td>\n",
       "      <td>7.000000</td>\n",
       "      <td>7.666666</td>\n",
       "      <td>3.444444</td>\n",
       "      <td>2.888889</td>\n",
       "      <td>4.888889</td>\n",
       "      <td>-7.777778</td>\n",
       "      <td>7.888889</td>\n",
       "      <td>0.562919</td>\n",
       "      <td>-1.175773</td>\n",
       "    </tr>\n",
       "    <tr>\n",
       "      <th>4</th>\n",
       "      <td>BRICKFACE</td>\n",
       "      <td>16</td>\n",
       "      <td>128</td>\n",
       "      <td>9</td>\n",
       "      <td>0.0</td>\n",
       "      <td>0.0</td>\n",
       "      <td>0.500000</td>\n",
       "      <td>0.077778</td>\n",
       "      <td>0.666667</td>\n",
       "      <td>0.311111</td>\n",
       "      <td>5.555555</td>\n",
       "      <td>6.888889</td>\n",
       "      <td>6.666666</td>\n",
       "      <td>3.111111</td>\n",
       "      <td>4.000000</td>\n",
       "      <td>3.333333</td>\n",
       "      <td>-7.333334</td>\n",
       "      <td>7.111111</td>\n",
       "      <td>0.561508</td>\n",
       "      <td>-0.985811</td>\n",
       "    </tr>\n",
       "  </tbody>\n",
       "</table>\n",
       "</div>"
      ],
      "text/plain": [
       "       Class  region.centroid.col  region.centroid.row  region.pixel.count  \\\n",
       "0  BRICKFACE                  188                  133                   9   \n",
       "1  BRICKFACE                  105                  139                   9   \n",
       "2  BRICKFACE                   34                  137                   9   \n",
       "3  BRICKFACE                   39                  111                   9   \n",
       "4  BRICKFACE                   16                  128                   9   \n",
       "\n",
       "   short.line.density.5  short.line.density.2  vedge.mean  vegde.sd  \\\n",
       "0                   0.0                   0.0    0.333333  0.266667   \n",
       "1                   0.0                   0.0    0.277778  0.107407   \n",
       "2                   0.0                   0.0    0.500000  0.166667   \n",
       "3                   0.0                   0.0    0.722222  0.374074   \n",
       "4                   0.0                   0.0    0.500000  0.077778   \n",
       "\n",
       "   hedge.mean  hedge.sd  intensity.mean  rawred.mean  rawblue.mean  \\\n",
       "0    0.500000  0.077778        6.666666     8.333334      7.777778   \n",
       "1    0.833333  0.522222        6.111111     7.555555      7.222222   \n",
       "2    1.111111  0.474074        5.851852     7.777778      6.444445   \n",
       "3    0.888889  0.429629        6.037037     7.000000      7.666666   \n",
       "4    0.666667  0.311111        5.555555     6.888889      6.666666   \n",
       "\n",
       "   rawgreen.mean  exred.mean  exblue.mean  exgreen.mean  value.mean  \\\n",
       "0       3.888889    5.000000     3.333333     -8.333333    8.444445   \n",
       "1       3.555556    4.333334     3.333333     -7.666666    7.555555   \n",
       "2       3.333333    5.777778     1.777778     -7.555555    7.777778   \n",
       "3       3.444444    2.888889     4.888889     -7.777778    7.888889   \n",
       "4       3.111111    4.000000     3.333333     -7.333334    7.111111   \n",
       "\n",
       "   saturation.mean  hue-mean  \n",
       "0         0.538580 -0.924817  \n",
       "1         0.532628 -0.965946  \n",
       "2         0.573633 -0.744272  \n",
       "3         0.562919 -1.175773  \n",
       "4         0.561508 -0.985811  "
      ]
     },
     "execution_count": 34,
     "metadata": {},
     "output_type": "execute_result"
    }
   ],
   "source": [
    "image = pd.read_csv('Cases/Image Segmentation/Image_Segmentation.csv')\n",
    "image.head()"
   ]
  },
  {
   "cell_type": "code",
   "execution_count": 35,
   "metadata": {},
   "outputs": [],
   "source": [
    "X = image.drop('Class', axis=1)\n",
    "y = image['Class']\n",
    "le = LabelEncoder()\n",
    "le_y = le.fit_transform(y)"
   ]
  },
  {
   "cell_type": "code",
   "execution_count": 66,
   "metadata": {},
   "outputs": [
    {
     "data": {
      "text/plain": [
       "array([0, 0, 0, 0, 0, 0, 0, 0, 0, 0, 0, 0, 0, 0, 0, 0, 0, 0, 0, 0, 0, 0,\n",
       "       0, 0, 0, 0, 0, 0, 0, 5, 5, 5, 5, 5, 5, 5, 5, 5, 5, 5, 5, 5, 5, 5,\n",
       "       5, 5, 5, 5, 5, 5, 5, 5, 5, 5, 5, 5, 5, 5, 5, 2, 2, 2, 2, 2, 2, 2,\n",
       "       2, 2, 2, 2, 2, 2, 2, 2, 2, 2, 2, 2, 2, 2, 2, 2, 2, 2, 2, 2, 2, 2,\n",
       "       2, 1, 1, 1, 1, 1, 1, 1, 1, 1, 1, 1, 1, 1, 1, 1, 1, 1, 1, 1, 1, 1,\n",
       "       1, 1, 1, 1, 1, 1, 1, 1, 1, 6, 6, 6, 6, 6, 6, 6, 6, 6, 6, 6, 6, 6,\n",
       "       6, 6, 6, 6, 6, 6, 6, 6, 6, 6, 6, 6, 6, 6, 6, 6, 6, 4, 4, 4, 4, 4,\n",
       "       4, 4, 4, 4, 4, 4, 4, 4, 4, 4, 4, 4, 4, 4, 4, 4, 4, 4, 4, 4, 4, 4,\n",
       "       4, 4, 4, 3, 3, 3, 3, 3, 3, 3, 3, 3, 3, 3, 3, 3, 3, 3, 3, 3, 3, 3,\n",
       "       3, 3, 3, 3, 3, 3, 3, 3, 3, 3, 3])"
      ]
     },
     "execution_count": 66,
     "metadata": {},
     "output_type": "execute_result"
    }
   ],
   "source": [
    "le_y"
   ]
  },
  {
   "cell_type": "code",
   "execution_count": 36,
   "metadata": {},
   "outputs": [],
   "source": [
    "X_train, X_test, y_train, y_test = train_test_split(X, le_y, test_size = 0.3,random_state=24,stratify=le_y)"
   ]
  },
  {
   "cell_type": "code",
   "execution_count": 37,
   "metadata": {},
   "outputs": [],
   "source": [
    "scaler = MinMaxScaler()\n",
    "X_scl_trn = scaler.fit_transform(X_train) \n",
    "X_scl_tst = scaler.transform(X_test)"
   ]
  },
  {
   "cell_type": "code",
   "execution_count": 38,
   "metadata": {},
   "outputs": [],
   "source": [
    "X_torch = torch.from_numpy(X_scl_trn)"
   ]
  },
  {
   "cell_type": "code",
   "execution_count": 39,
   "metadata": {},
   "outputs": [
    {
     "data": {
      "text/plain": [
       "(146, 7)"
      ]
     },
     "execution_count": 39,
     "metadata": {},
     "output_type": "execute_result"
    }
   ],
   "source": [
    "ohe = OneHotEncoder(sparse_output=False)\n",
    "y_trn_ohe = ohe.fit_transform( y_train.reshape(-1,1) )\n",
    "y_trn_ohe.shape"
   ]
  },
  {
   "cell_type": "code",
   "execution_count": 67,
   "metadata": {},
   "outputs": [
    {
     "data": {
      "text/plain": [
       "array([[1., 0., 0., ..., 0., 0., 0.],\n",
       "       [0., 0., 1., ..., 0., 0., 0.],\n",
       "       [0., 0., 0., ..., 1., 0., 0.],\n",
       "       ...,\n",
       "       [0., 0., 0., ..., 0., 0., 1.],\n",
       "       [1., 0., 0., ..., 0., 0., 0.],\n",
       "       [0., 0., 0., ..., 0., 1., 0.]])"
      ]
     },
     "execution_count": 67,
     "metadata": {},
     "output_type": "execute_result"
    }
   ],
   "source": [
    "y_trn_ohe"
   ]
  },
  {
   "cell_type": "code",
   "execution_count": 40,
   "metadata": {},
   "outputs": [],
   "source": [
    "y_torch = torch.from_numpy(y_trn_ohe)"
   ]
  },
  {
   "cell_type": "code",
   "execution_count": 85,
   "metadata": {},
   "outputs": [],
   "source": [
    "torch.manual_seed(24)\n",
    "model = nn.Sequential(nn.Linear(in_features=X_train.shape[1], out_features=17),\n",
    "                      nn.Tanh(),\n",
    "                      nn.Linear(in_features=17, out_features=10),\n",
    "                      nn.Tanh(), \n",
    "                      nn.Linear(in_features=10, out_features=7)\n",
    "                     )"
   ]
  },
  {
   "cell_type": "code",
   "execution_count": 102,
   "metadata": {},
   "outputs": [
    {
     "name": "stdout",
     "output_type": "stream",
     "text": [
      "==========================================================================================\n",
      "Layer (type:depth-idx)                   Output Shape              Param #\n",
      "==========================================================================================\n",
      "├─Linear: 1-1                            [-1, 1, 17]               340\n",
      "├─Tanh: 1-2                              [-1, 1, 17]               --\n",
      "├─Linear: 1-3                            [-1, 1, 10]               180\n",
      "├─Tanh: 1-4                              [-1, 1, 10]               --\n",
      "├─Linear: 1-5                            [-1, 1, 7]                77\n",
      "==========================================================================================\n",
      "Total params: 597\n",
      "Trainable params: 597\n",
      "Non-trainable params: 0\n",
      "Total mult-adds (M): 0.00\n",
      "==========================================================================================\n",
      "Input size (MB): 0.00\n",
      "Forward/backward pass size (MB): 0.00\n",
      "Params size (MB): 0.00\n",
      "Estimated Total Size (MB): 0.00\n",
      "==========================================================================================\n"
     ]
    },
    {
     "data": {
      "text/plain": [
       "==========================================================================================\n",
       "Layer (type:depth-idx)                   Output Shape              Param #\n",
       "==========================================================================================\n",
       "├─Linear: 1-1                            [-1, 1, 17]               340\n",
       "├─Tanh: 1-2                              [-1, 1, 17]               --\n",
       "├─Linear: 1-3                            [-1, 1, 10]               180\n",
       "├─Tanh: 1-4                              [-1, 1, 10]               --\n",
       "├─Linear: 1-5                            [-1, 1, 7]                77\n",
       "==========================================================================================\n",
       "Total params: 597\n",
       "Trainable params: 597\n",
       "Non-trainable params: 0\n",
       "Total mult-adds (M): 0.00\n",
       "==========================================================================================\n",
       "Input size (MB): 0.00\n",
       "Forward/backward pass size (MB): 0.00\n",
       "Params size (MB): 0.00\n",
       "Estimated Total Size (MB): 0.00\n",
       "=========================================================================================="
      ]
     },
     "execution_count": 102,
     "metadata": {},
     "output_type": "execute_result"
    }
   ],
   "source": [
    "summary(model, (1,X_scl_trn.shape[1]))"
   ]
  },
  {
   "cell_type": "code",
   "execution_count": 87,
   "metadata": {},
   "outputs": [
    {
     "data": {
      "text/plain": [
       "Adagrad (\n",
       "Parameter Group 0\n",
       "    differentiable: False\n",
       "    eps: 1e-10\n",
       "    foreach: None\n",
       "    fused: None\n",
       "    initial_accumulator_value: 0\n",
       "    lr: 0.1\n",
       "    lr_decay: 0\n",
       "    maximize: False\n",
       "    weight_decay: 0\n",
       ")"
      ]
     },
     "execution_count": 87,
     "metadata": {},
     "output_type": "execute_result"
    }
   ],
   "source": [
    "criterion = torch.nn.CrossEntropyLoss()\n",
    "optimizer = torch.optim.Adagrad(model.parameters(), lr = 0.1)\n",
    "optimizer"
   ]
  },
  {
   "cell_type": "code",
   "execution_count": 88,
   "metadata": {},
   "outputs": [
    {
     "name": "stdout",
     "output_type": "stream",
     "text": [
      "Parameter containing:\n",
      "tensor([[ 1.2133e-01, -5.7329e-02, -1.9496e-01,  1.4124e-02,  2.1383e-01,\n",
      "         -1.0233e-01, -7.4685e-02,  1.7941e-01, -3.1922e-02, -8.7622e-02,\n",
      "         -4.6208e-02,  8.4010e-03, -1.8690e-01, -6.5564e-02,  2.2245e-01,\n",
      "         -4.9180e-02,  2.0896e-01, -8.9563e-02, -9.2279e-02],\n",
      "        [-6.8382e-02, -2.0513e-01, -1.3818e-01,  1.3865e-01, -1.7211e-01,\n",
      "          7.8369e-02,  2.1585e-01, -2.9154e-02,  1.0036e-01,  1.0716e-01,\n",
      "         -1.6376e-01, -8.8460e-02, -7.1846e-02,  2.2138e-01, -2.0476e-01,\n",
      "          1.3887e-01,  2.1547e-01,  1.8139e-01,  9.7774e-02],\n",
      "        [ 1.0213e-01, -1.2232e-02,  1.1543e-01,  2.0912e-01, -7.3770e-02,\n",
      "          2.2167e-01,  3.6460e-02, -1.6091e-01, -1.6465e-01,  8.0917e-02,\n",
      "         -3.2368e-02, -1.0106e-01,  1.1617e-01, -1.2101e-01, -1.0965e-01,\n",
      "          4.2883e-02, -4.1423e-02, -1.9357e-01, -6.8920e-02],\n",
      "        [-8.0626e-02, -9.7771e-02,  1.7860e-01, -3.4798e-02, -1.4012e-01,\n",
      "          6.7971e-02,  3.9527e-02, -1.7419e-01, -2.1969e-01,  1.7358e-01,\n",
      "         -2.1247e-01,  2.2772e-01,  1.2810e-01,  1.9146e-01, -1.9966e-01,\n",
      "          8.4398e-02, -2.2269e-01,  6.5326e-02,  1.0457e-01],\n",
      "        [ 3.3600e-02, -8.2122e-02, -8.5121e-02, -1.8950e-02,  2.1469e-01,\n",
      "          1.3171e-01,  1.5601e-01, -8.3781e-02,  5.3865e-02, -1.4158e-01,\n",
      "         -2.9176e-02, -1.1369e-01,  9.5646e-02,  1.1763e-01,  2.8467e-02,\n",
      "          1.8215e-01, -2.2790e-01,  9.9497e-02,  1.2403e-01],\n",
      "        [ 2.0851e-01,  4.9724e-02, -2.0986e-01,  1.5388e-01, -1.2166e-02,\n",
      "          7.6200e-02, -1.5516e-01,  8.2398e-03,  2.1977e-01,  7.3831e-02,\n",
      "          1.8575e-01,  4.4201e-02,  1.9068e-01, -1.9772e-01,  9.4897e-02,\n",
      "          2.1396e-01,  1.0676e-01,  1.3666e-01,  1.6057e-01],\n",
      "        [ 1.9707e-01, -1.6001e-01,  4.0428e-02, -1.6735e-01,  1.3544e-01,\n",
      "          7.8117e-02, -1.6704e-01, -1.9882e-02, -1.4921e-01,  3.4519e-02,\n",
      "         -1.3365e-01,  8.9872e-02, -2.0724e-01,  6.6877e-02,  1.9242e-01,\n",
      "          1.4491e-01,  1.9194e-01, -9.4594e-03, -1.6564e-01],\n",
      "        [ 2.9353e-02, -8.7402e-02, -1.4625e-01,  1.3958e-01,  2.8112e-02,\n",
      "          1.1619e-01,  2.2096e-01,  3.5807e-02, -2.1395e-01,  6.4671e-02,\n",
      "          1.0922e-01,  6.1396e-03, -1.9584e-01,  2.1818e-01, -2.1484e-01,\n",
      "          1.5943e-01, -1.0456e-02,  1.6646e-01, -1.9437e-01],\n",
      "        [ 2.2931e-01,  7.7216e-02,  2.0321e-01,  1.3940e-01,  1.7265e-01,\n",
      "          7.3037e-02, -6.7567e-02,  2.1191e-01,  1.7427e-01, -1.4654e-01,\n",
      "         -5.3644e-04, -6.8836e-02, -2.1962e-01,  6.2089e-03, -1.3578e-01,\n",
      "         -5.1606e-02, -5.9075e-02,  1.9383e-01,  8.8867e-02],\n",
      "        [-2.0574e-01,  1.3067e-01,  1.4968e-01,  8.9836e-02,  9.3064e-02,\n",
      "          8.9664e-02,  6.1466e-03, -2.0957e-01, -1.1299e-01,  1.4678e-01,\n",
      "          7.5270e-02,  1.8137e-01,  5.5071e-02,  2.2077e-01, -1.0525e-01,\n",
      "         -1.0904e-01,  8.1384e-02, -1.1484e-01,  9.1985e-02],\n",
      "        [ 2.4904e-02, -9.0443e-02,  5.4525e-02,  2.1604e-01,  1.2345e-01,\n",
      "         -2.1674e-01,  9.4607e-02,  1.3636e-01,  1.5941e-01, -5.5380e-02,\n",
      "          1.8612e-01,  1.8211e-01, -2.9502e-03, -4.0878e-02,  1.8031e-01,\n",
      "          2.6705e-02,  9.7924e-02,  2.2722e-02,  1.1126e-01],\n",
      "        [-6.4156e-02, -1.4128e-01,  1.9221e-01,  1.0537e-01,  5.8614e-02,\n",
      "          9.2157e-02, -9.5746e-02,  1.0571e-01,  2.1340e-01,  1.7733e-01,\n",
      "          2.7147e-02,  8.9795e-02,  2.0875e-01, -3.7484e-02, -1.6182e-01,\n",
      "          2.1178e-01,  6.7837e-02, -8.0150e-02,  6.0596e-02],\n",
      "        [-1.0427e-01, -9.9280e-02,  1.5183e-01,  1.7007e-01, -2.0900e-01,\n",
      "         -6.8217e-02,  1.7681e-01, -2.0330e-02, -2.0622e-01,  1.5169e-01,\n",
      "         -1.9667e-01, -6.9450e-02,  8.2308e-02, -2.0467e-01, -6.9450e-02,\n",
      "          5.2291e-02, -1.2049e-01, -5.1180e-02,  5.9656e-02],\n",
      "        [ 7.7220e-02, -1.2815e-01,  1.9622e-01, -1.7900e-01, -4.6824e-02,\n",
      "         -1.5784e-01, -9.7133e-02, -4.2244e-02,  6.9673e-02,  1.6183e-01,\n",
      "          1.0734e-02, -1.7597e-01,  2.1318e-01,  2.6656e-02,  2.1758e-01,\n",
      "          1.7574e-01, -1.4752e-01,  1.3929e-01, -2.0941e-02],\n",
      "        [-9.9235e-02,  1.5316e-01, -1.7903e-01, -1.1565e-01, -1.1075e-01,\n",
      "         -1.0759e-01, -4.9512e-02, -5.8842e-02,  4.7713e-02,  1.5278e-01,\n",
      "         -8.1926e-02,  1.8403e-01,  2.1330e-01, -9.4023e-02,  2.8846e-02,\n",
      "         -2.1941e-02, -1.0144e-01, -2.7017e-02,  1.7364e-01],\n",
      "        [ 5.0689e-02, -1.6642e-01,  1.6529e-01,  1.3793e-01, -1.3335e-01,\n",
      "         -2.5112e-02,  1.8524e-01, -5.2919e-02, -1.1497e-01, -8.9551e-02,\n",
      "         -3.2157e-02,  2.2830e-01,  1.3963e-01, -1.3947e-05,  7.0732e-02,\n",
      "          1.1023e-01,  1.6264e-01,  1.6010e-01, -8.7574e-02],\n",
      "        [ 7.6672e-02, -1.5628e-01, -2.5409e-02, -3.2650e-02,  1.0856e-01,\n",
      "         -1.1506e-01,  1.4347e-01, -1.6111e-01, -5.5008e-02, -1.2958e-01,\n",
      "          9.3107e-02,  9.0994e-02, -1.0062e-01, -1.2509e-01, -9.5943e-03,\n",
      "          3.2838e-02, -1.5138e-02, -1.7046e-01,  1.1414e-01]],\n",
      "       requires_grad=True)\n",
      "Parameter containing:\n",
      "tensor([-0.1475, -0.1826,  0.1807, -0.0185, -0.1057,  0.0855, -0.2066,  0.2215,\n",
      "         0.1007, -0.1632, -0.0577, -0.1877,  0.0922, -0.2026,  0.2029, -0.1435,\n",
      "         0.0600], requires_grad=True)\n",
      "Parameter containing:\n",
      "tensor([[-0.1739, -0.1628, -0.2370, -0.0907, -0.1812, -0.1124, -0.1077,  0.0480,\n",
      "          0.0990,  0.0982,  0.1874, -0.0639, -0.0830,  0.0423, -0.1906, -0.0480,\n",
      "         -0.1918],\n",
      "        [ 0.1838, -0.0342,  0.0106,  0.1972,  0.1726, -0.0558,  0.0829,  0.1332,\n",
      "         -0.1686, -0.2090, -0.2322,  0.1161,  0.2164, -0.0883,  0.1940,  0.1252,\n",
      "          0.0934],\n",
      "        [-0.0166, -0.2314, -0.2403,  0.2248, -0.0786,  0.0664,  0.0348,  0.2167,\n",
      "         -0.1951, -0.1130,  0.0797,  0.1890,  0.2116, -0.0401,  0.1303, -0.0349,\n",
      "          0.1387],\n",
      "        [-0.0660, -0.1556, -0.1025,  0.1093, -0.0778,  0.0531,  0.2047, -0.2360,\n",
      "         -0.0986, -0.0888,  0.1839, -0.1779,  0.1128,  0.1730,  0.1749,  0.0779,\n",
      "         -0.2071],\n",
      "        [-0.0799,  0.1187, -0.2266,  0.1412, -0.1409,  0.0729,  0.0744, -0.2359,\n",
      "         -0.1334, -0.1951, -0.0877,  0.0766,  0.0791,  0.1306,  0.0352, -0.0006,\n",
      "         -0.0010],\n",
      "        [ 0.0555, -0.1051, -0.0447, -0.0657,  0.1508, -0.1311, -0.2014, -0.1895,\n",
      "         -0.0011, -0.1073, -0.0111,  0.1969,  0.0803, -0.0109,  0.1561, -0.1135,\n",
      "         -0.1230],\n",
      "        [-0.0439, -0.2023,  0.2325,  0.0617,  0.0222, -0.2106, -0.1690, -0.1911,\n",
      "         -0.2381, -0.1423, -0.2134, -0.1681,  0.0057, -0.1585, -0.0760,  0.2251,\n",
      "         -0.0604],\n",
      "        [ 0.1072,  0.2231, -0.0348,  0.1321,  0.1923, -0.0784, -0.0839, -0.2238,\n",
      "         -0.1613, -0.2135, -0.0862, -0.1338, -0.2041,  0.0861,  0.0552, -0.0923,\n",
      "         -0.0660],\n",
      "        [ 0.0328,  0.1874,  0.1371,  0.0413, -0.0135,  0.0497,  0.0226,  0.0614,\n",
      "         -0.0537, -0.0383, -0.0722,  0.1624, -0.0989, -0.2035, -0.0050, -0.0916,\n",
      "         -0.1163],\n",
      "        [ 0.1754, -0.2022, -0.1463,  0.1882,  0.2104, -0.1685,  0.1723, -0.2229,\n",
      "          0.0590,  0.0116,  0.1487,  0.2062, -0.0138, -0.1018, -0.1997,  0.0371,\n",
      "         -0.0866]], requires_grad=True)\n",
      "Parameter containing:\n",
      "tensor([-0.1691, -0.0334, -0.0513, -0.1770,  0.0080, -0.1401, -0.2018, -0.0885,\n",
      "        -0.0048,  0.0020], requires_grad=True)\n",
      "Parameter containing:\n",
      "tensor([[-0.0566,  0.2844,  0.1194,  0.2241, -0.2787,  0.1319,  0.1481,  0.0294,\n",
      "         -0.1214, -0.0729],\n",
      "        [ 0.1782, -0.2448, -0.1403, -0.2902,  0.0792, -0.1500, -0.2817, -0.2055,\n",
      "          0.0182,  0.1774],\n",
      "        [ 0.0860, -0.0096, -0.0238, -0.1681, -0.0342, -0.1656,  0.1489, -0.0115,\n",
      "          0.2111,  0.1853],\n",
      "        [ 0.0544,  0.2044, -0.0876, -0.1213, -0.2878,  0.1555,  0.0406,  0.2414,\n",
      "          0.2982, -0.0691],\n",
      "        [-0.1178,  0.1742,  0.2676,  0.2270,  0.2490, -0.1833, -0.2131, -0.0572,\n",
      "         -0.1277,  0.1523],\n",
      "        [ 0.1990,  0.2979, -0.1263, -0.0913, -0.0395, -0.0115, -0.0105,  0.2176,\n",
      "         -0.2808, -0.2403],\n",
      "        [-0.1350,  0.1501, -0.1123,  0.0252,  0.0468,  0.2000, -0.2623, -0.0866,\n",
      "          0.1116, -0.0967]], requires_grad=True)\n",
      "Parameter containing:\n",
      "tensor([-0.2190,  0.1166,  0.2686, -0.1042,  0.1114, -0.0720,  0.0456],\n",
      "       requires_grad=True)\n"
     ]
    }
   ],
   "source": [
    "for p in model.parameters():\n",
    "    print(p)"
   ]
  },
  {
   "cell_type": "code",
   "execution_count": 89,
   "metadata": {},
   "outputs": [
    {
     "data": {
      "text/plain": [
       "tensor([[-0.3275,  0.2916,  0.2615, -0.1363,  0.1138, -0.0810,  0.1054],\n",
       "        [-0.3209,  0.2804,  0.2608, -0.1262,  0.1119, -0.0809,  0.1144],\n",
       "        [-0.3158,  0.2854,  0.2428, -0.1754,  0.1250, -0.1146,  0.1016]],\n",
       "       grad_fn=<SliceBackward0>)"
      ]
     },
     "execution_count": 89,
     "metadata": {},
     "output_type": "execute_result"
    }
   ],
   "source": [
    "y_pred = model(X_torch.float())\n",
    "y_pred[:3]"
   ]
  },
  {
   "cell_type": "code",
   "execution_count": 90,
   "metadata": {},
   "outputs": [
    {
     "data": {
      "text/plain": [
       "(torch.Size([146, 7]), torch.Size([146, 7]))"
      ]
     },
     "execution_count": 90,
     "metadata": {},
     "output_type": "execute_result"
    }
   ],
   "source": [
    "y_pred.shape, y_torch.shape"
   ]
  },
  {
   "cell_type": "code",
   "execution_count": 91,
   "metadata": {},
   "outputs": [
    {
     "data": {
      "text/plain": [
       "tensor(1.9722, grad_fn=<DivBackward1>)"
      ]
     },
     "execution_count": 91,
     "metadata": {},
     "output_type": "execute_result"
    }
   ],
   "source": [
    "loss = criterion(y_pred, y_torch.float())\n",
    "loss"
   ]
  },
  {
   "cell_type": "code",
   "execution_count": 92,
   "metadata": {},
   "outputs": [
    {
     "name": "stdout",
     "output_type": "stream",
     "text": [
      "epoch:  1  loss:  1.9721837043762207\n",
      "epoch:  1001  loss:  0.018027005717158318\n",
      "epoch:  2001  loss:  0.005533433519303799\n",
      "epoch:  3001  loss:  0.0028864077758044004\n",
      "epoch:  4001  loss:  0.0018791789188981056\n",
      "epoch:  5001  loss:  0.0013708502519875765\n",
      "epoch:  6001  loss:  0.0010696927784010768\n",
      "epoch:  7001  loss:  0.0008724082726985216\n",
      "epoch:  8001  loss:  0.0007339862058870494\n",
      "epoch:  9001  loss:  0.0006319103413261473\n"
     ]
    }
   ],
   "source": [
    "for epoch in np.arange(0,10000):\n",
    "       # Forward pass: Compute predicted y by passing x to the model\n",
    "       y_pred_prob = model(X_torch.float())\n",
    "\n",
    "       # Compute and print loss\n",
    "       loss = criterion(y_pred_prob, y_torch.float())\n",
    "       if epoch%1000 == 0:\n",
    "          print('epoch: ', epoch+1,' loss: ', loss.item())\n",
    "\n",
    "       # Zero gradients, perform a backward pass, and update the weights.\n",
    "       optimizer.zero_grad()\n",
    "\n",
    "       # perform a backward pass (backpropagation)\n",
    "       loss.backward()\n",
    "\n",
    "       # Update the parameters\n",
    "       optimizer.step()\n",
    "#print('epoch: ', epoch+1,' loss: ', loss.item())"
   ]
  },
  {
   "cell_type": "code",
   "execution_count": 93,
   "metadata": {},
   "outputs": [
    {
     "data": {
      "text/plain": [
       "tensor(0.0006, grad_fn=<DivBackward1>)"
      ]
     },
     "execution_count": 93,
     "metadata": {},
     "output_type": "execute_result"
    }
   ],
   "source": [
    "loss"
   ]
  },
  {
   "cell_type": "code",
   "execution_count": 94,
   "metadata": {},
   "outputs": [
    {
     "data": {
      "text/plain": [
       "torch.Tensor"
      ]
     },
     "execution_count": 94,
     "metadata": {},
     "output_type": "execute_result"
    }
   ],
   "source": [
    "X_torch_test = torch.from_numpy(X_scl_tst)\n",
    "type(X_torch_test)"
   ]
  },
  {
   "cell_type": "code",
   "execution_count": 95,
   "metadata": {},
   "outputs": [
    {
     "data": {
      "text/plain": [
       "tensor([[2.0748e-07, 9.9987e-01, 1.7706e-06, 1.7717e-08, 3.2650e-05, 4.4605e-05,\n",
       "         4.8567e-05],\n",
       "        [4.9510e-06, 2.2440e-04, 3.4284e-05, 3.1411e-08, 9.9968e-01, 5.9921e-05,\n",
       "         6.1871e-08],\n",
       "        [5.4400e-05, 1.8532e-06, 4.4944e-06, 9.9989e-01, 5.2760e-08, 1.9382e-05,\n",
       "         3.1594e-05]], grad_fn=<SliceBackward0>)"
      ]
     },
     "execution_count": 95,
     "metadata": {},
     "output_type": "execute_result"
    }
   ],
   "source": [
    "y_wt_sum = model(X_torch_test.float()) \n",
    "softmax = nn.Softmax(dim=1)\n",
    "y_pred_prob = softmax(y_wt_sum)\n",
    "y_pred_prob[:3]"
   ]
  },
  {
   "cell_type": "markdown",
   "metadata": {},
   "source": [
    "`detach().numpy()` converts `torch.Tensor` into `numpy` object"
   ]
  },
  {
   "cell_type": "code",
   "execution_count": 96,
   "metadata": {},
   "outputs": [
    {
     "data": {
      "text/plain": [
       "(63, 7)"
      ]
     },
     "execution_count": 96,
     "metadata": {},
     "output_type": "execute_result"
    }
   ],
   "source": [
    "y_pred_prob = y_pred_prob.detach().numpy()\n",
    "y_pred_prob.shape"
   ]
  },
  {
   "cell_type": "code",
   "execution_count": 97,
   "metadata": {},
   "outputs": [
    {
     "data": {
      "text/plain": [
       "(63,)"
      ]
     },
     "execution_count": 97,
     "metadata": {},
     "output_type": "execute_result"
    }
   ],
   "source": [
    "y_pred = np.argmax(y_pred_prob, axis=1 )\n",
    "y_pred.shape"
   ]
  },
  {
   "cell_type": "markdown",
   "metadata": {},
   "source": [
    "### Test Set Accuracy Score"
   ]
  },
  {
   "cell_type": "code",
   "execution_count": 98,
   "metadata": {},
   "outputs": [
    {
     "name": "stdout",
     "output_type": "stream",
     "text": [
      "0.0\n"
     ]
    }
   ],
   "source": [
    "print(accuracy_score(y_test,y_pred))"
   ]
  },
  {
   "cell_type": "markdown",
   "metadata": {},
   "source": [
    "### Test Set Log Loss"
   ]
  },
  {
   "cell_type": "code",
   "execution_count": 99,
   "metadata": {},
   "outputs": [
    {
     "data": {
      "text/plain": [
       "0.752319704631676"
      ]
     },
     "execution_count": 99,
     "metadata": {},
     "output_type": "execute_result"
    }
   ],
   "source": [
    "log_loss(y_test, y_pred_prob)"
   ]
  },
  {
   "cell_type": "code",
   "execution_count": 100,
   "metadata": {},
   "outputs": [],
   "source": [
    "from sklearn.metrics import confusion_matrix\n",
    "from sklearn.metrics import ConfusionMatrixDisplay\n",
    "import matplotlib.pyplot as plt"
   ]
  },
  {
   "cell_type": "code",
   "execution_count": 101,
   "metadata": {},
   "outputs": [
    {
     "ename": "ValueError",
     "evalue": "y contains previously unseen labels: ['BRICKFACE' 'CEMENT' 'FOLIAGE' 'GRASS' 'PATH' 'SKY' 'WINDOW']",
     "output_type": "error",
     "traceback": [
      "\u001b[1;31m---------------------------------------------------------------------------\u001b[0m",
      "\u001b[1;31mValueError\u001b[0m                                Traceback (most recent call last)",
      "Cell \u001b[1;32mIn[101], line 1\u001b[0m\n\u001b[1;32m----> 1\u001b[0m y_test \u001b[38;5;241m=\u001b[39m \u001b[43mle\u001b[49m\u001b[38;5;241;43m.\u001b[39;49m\u001b[43minverse_transform\u001b[49m\u001b[43m(\u001b[49m\u001b[43my_test\u001b[49m\u001b[43m)\u001b[49m\n\u001b[0;32m      2\u001b[0m y_pred \u001b[38;5;241m=\u001b[39m le\u001b[38;5;241m.\u001b[39minverse_transform(y_pred)\n",
      "File \u001b[1;32mc:\\Users\\dbda.STUDENTSDC\\AppData\\Local\\anaconda3\\envs\\dung\\lib\\site-packages\\sklearn\\preprocessing\\_label.py:160\u001b[0m, in \u001b[0;36mLabelEncoder.inverse_transform\u001b[1;34m(self, y)\u001b[0m\n\u001b[0;32m    158\u001b[0m diff \u001b[38;5;241m=\u001b[39m np\u001b[38;5;241m.\u001b[39msetdiff1d(y, np\u001b[38;5;241m.\u001b[39marange(\u001b[38;5;28mlen\u001b[39m(\u001b[38;5;28mself\u001b[39m\u001b[38;5;241m.\u001b[39mclasses_)))\n\u001b[0;32m    159\u001b[0m \u001b[38;5;28;01mif\u001b[39;00m \u001b[38;5;28mlen\u001b[39m(diff):\n\u001b[1;32m--> 160\u001b[0m     \u001b[38;5;28;01mraise\u001b[39;00m \u001b[38;5;167;01mValueError\u001b[39;00m(\u001b[38;5;124m\"\u001b[39m\u001b[38;5;124my contains previously unseen labels: \u001b[39m\u001b[38;5;132;01m%s\u001b[39;00m\u001b[38;5;124m\"\u001b[39m \u001b[38;5;241m%\u001b[39m \u001b[38;5;28mstr\u001b[39m(diff))\n\u001b[0;32m    161\u001b[0m y \u001b[38;5;241m=\u001b[39m np\u001b[38;5;241m.\u001b[39masarray(y)\n\u001b[0;32m    162\u001b[0m \u001b[38;5;28;01mreturn\u001b[39;00m \u001b[38;5;28mself\u001b[39m\u001b[38;5;241m.\u001b[39mclasses_[y]\n",
      "\u001b[1;31mValueError\u001b[0m: y contains previously unseen labels: ['BRICKFACE' 'CEMENT' 'FOLIAGE' 'GRASS' 'PATH' 'SKY' 'WINDOW']"
     ]
    }
   ],
   "source": [
    "y_test = le.inverse_transform(y_test)\n",
    "y_pred = le.inverse_transform(y_pred)"
   ]
  },
  {
   "cell_type": "code",
   "execution_count": 65,
   "metadata": {},
   "outputs": [
    {
     "data": {
      "image/png": "[encoded data removed]",
      "text/plain": [
       "<Figure size 640x480 with 2 Axes>"
      ]
     },
     "metadata": {},
     "output_type": "display_data"
    }
   ],
   "source": [
    "cm = confusion_matrix(y_test,y_pred)\n",
    "disp = ConfusionMatrixDisplay(cm, display_labels = list(le.classes_))\n",
    "disp.plot()\n",
    "plt.show()"
   ]
  },
  {
   "cell_type": "markdown",
   "metadata": {},
   "source": [
    "## 15 - 7"
   ]
  },
  {
   "cell_type": "code",
   "execution_count": 68,
   "metadata": {},
   "outputs": [],
   "source": [
    "torch.manual_seed(24)\n",
    "model = nn.Sequential(nn.Linear(in_features=X_train.shape[1], out_features=15),\n",
    "                      nn.Tanh(),\n",
    "                      nn.Linear(in_features=15, out_features=7)\n",
    "                     )"
   ]
  },
  {
   "cell_type": "code",
   "execution_count": 69,
   "metadata": {},
   "outputs": [
    {
     "name": "stdout",
     "output_type": "stream",
     "text": [
      "==========================================================================================\n",
      "Layer (type:depth-idx)                   Output Shape              Param #\n",
      "==========================================================================================\n",
      "├─Linear: 1-1                            [-1, 1, 15]               300\n",
      "├─Tanh: 1-2                              [-1, 1, 15]               --\n",
      "├─Linear: 1-3                            [-1, 1, 7]                112\n",
      "==========================================================================================\n",
      "Total params: 412\n",
      "Trainable params: 412\n",
      "Non-trainable params: 0\n",
      "Total mult-adds (M): 0.00\n",
      "==========================================================================================\n",
      "Input size (MB): 0.00\n",
      "Forward/backward pass size (MB): 0.00\n",
      "Params size (MB): 0.00\n",
      "Estimated Total Size (MB): 0.00\n",
      "==========================================================================================\n"
     ]
    },
    {
     "data": {
      "text/plain": [
       "==========================================================================================\n",
       "Layer (type:depth-idx)                   Output Shape              Param #\n",
       "==========================================================================================\n",
       "├─Linear: 1-1                            [-1, 1, 15]               300\n",
       "├─Tanh: 1-2                              [-1, 1, 15]               --\n",
       "├─Linear: 1-3                            [-1, 1, 7]                112\n",
       "==========================================================================================\n",
       "Total params: 412\n",
       "Trainable params: 412\n",
       "Non-trainable params: 0\n",
       "Total mult-adds (M): 0.00\n",
       "==========================================================================================\n",
       "Input size (MB): 0.00\n",
       "Forward/backward pass size (MB): 0.00\n",
       "Params size (MB): 0.00\n",
       "Estimated Total Size (MB): 0.00\n",
       "=========================================================================================="
      ]
     },
     "execution_count": 69,
     "metadata": {},
     "output_type": "execute_result"
    }
   ],
   "source": [
    "summary(model, (1,X_train.shape[1]))"
   ]
  },
  {
   "cell_type": "code",
   "execution_count": 70,
   "metadata": {},
   "outputs": [
    {
     "data": {
      "text/plain": [
       "Adagrad (\n",
       "Parameter Group 0\n",
       "    differentiable: False\n",
       "    eps: 1e-10\n",
       "    foreach: None\n",
       "    fused: None\n",
       "    initial_accumulator_value: 0\n",
       "    lr: 0.1\n",
       "    lr_decay: 0\n",
       "    maximize: False\n",
       "    weight_decay: 0\n",
       ")"
      ]
     },
     "execution_count": 70,
     "metadata": {},
     "output_type": "execute_result"
    }
   ],
   "source": [
    "criterion = torch.nn.CrossEntropyLoss()\n",
    "optimizer = torch.optim.Adagrad(model.parameters(), lr = 0.1)\n",
    "optimizer"
   ]
  },
  {
   "cell_type": "code",
   "execution_count": 71,
   "metadata": {},
   "outputs": [
    {
     "name": "stdout",
     "output_type": "stream",
     "text": [
      "Parameter containing:\n",
      "tensor([[ 0.1213, -0.0573, -0.1950,  0.0141,  0.2138, -0.1023, -0.0747,  0.1794,\n",
      "         -0.0319, -0.0876, -0.0462,  0.0084, -0.1869, -0.0656,  0.2225, -0.0492,\n",
      "          0.2090, -0.0896, -0.0923],\n",
      "        [-0.0684, -0.2051, -0.1382,  0.1386, -0.1721,  0.0784,  0.2159, -0.0292,\n",
      "          0.1004,  0.1072, -0.1638, -0.0885, -0.0718,  0.2214, -0.2048,  0.1389,\n",
      "          0.2155,  0.1814,  0.0978],\n",
      "        [ 0.1021, -0.0122,  0.1154,  0.2091, -0.0738,  0.2217,  0.0365, -0.1609,\n",
      "         -0.1647,  0.0809, -0.0324, -0.1011,  0.1162, -0.1210, -0.1097,  0.0429,\n",
      "         -0.0414, -0.1936, -0.0689],\n",
      "        [-0.0806, -0.0978,  0.1786, -0.0348, -0.1401,  0.0680,  0.0395, -0.1742,\n",
      "         -0.2197,  0.1736, -0.2125,  0.2277,  0.1281,  0.1915, -0.1997,  0.0844,\n",
      "         -0.2227,  0.0653,  0.1046],\n",
      "        [ 0.0336, -0.0821, -0.0851, -0.0189,  0.2147,  0.1317,  0.1560, -0.0838,\n",
      "          0.0539, -0.1416, -0.0292, -0.1137,  0.0956,  0.1176,  0.0285,  0.1821,\n",
      "         -0.2279,  0.0995,  0.1240],\n",
      "        [ 0.2085,  0.0497, -0.2099,  0.1539, -0.0122,  0.0762, -0.1552,  0.0082,\n",
      "          0.2198,  0.0738,  0.1858,  0.0442,  0.1907, -0.1977,  0.0949,  0.2140,\n",
      "          0.1068,  0.1367,  0.1606],\n",
      "        [ 0.1971, -0.1600,  0.0404, -0.1674,  0.1354,  0.0781, -0.1670, -0.0199,\n",
      "         -0.1492,  0.0345, -0.1336,  0.0899, -0.2072,  0.0669,  0.1924,  0.1449,\n",
      "          0.1919, -0.0095, -0.1656],\n",
      "        [ 0.0294, -0.0874, -0.1462,  0.1396,  0.0281,  0.1162,  0.2210,  0.0358,\n",
      "         -0.2140,  0.0647,  0.1092,  0.0061, -0.1958,  0.2182, -0.2148,  0.1594,\n",
      "         -0.0105,  0.1665, -0.1944],\n",
      "        [ 0.2293,  0.0772,  0.2032,  0.1394,  0.1727,  0.0730, -0.0676,  0.2119,\n",
      "          0.1743, -0.1465, -0.0005, -0.0688, -0.2196,  0.0062, -0.1358, -0.0516,\n",
      "         -0.0591,  0.1938,  0.0889],\n",
      "        [-0.2057,  0.1307,  0.1497,  0.0898,  0.0931,  0.0897,  0.0061, -0.2096,\n",
      "         -0.1130,  0.1468,  0.0753,  0.1814,  0.0551,  0.2208, -0.1052, -0.1090,\n",
      "          0.0814, -0.1148,  0.0920],\n",
      "        [ 0.0249, -0.0904,  0.0545,  0.2160,  0.1234, -0.2167,  0.0946,  0.1364,\n",
      "          0.1594, -0.0554,  0.1861,  0.1821, -0.0030, -0.0409,  0.1803,  0.0267,\n",
      "          0.0979,  0.0227,  0.1113],\n",
      "        [-0.0642, -0.1413,  0.1922,  0.1054,  0.0586,  0.0922, -0.0957,  0.1057,\n",
      "          0.2134,  0.1773,  0.0271,  0.0898,  0.2088, -0.0375, -0.1618,  0.2118,\n",
      "          0.0678, -0.0801,  0.0606],\n",
      "        [-0.1043, -0.0993,  0.1518,  0.1701, -0.2090, -0.0682,  0.1768, -0.0203,\n",
      "         -0.2062,  0.1517, -0.1967, -0.0695,  0.0823, -0.2047, -0.0695,  0.0523,\n",
      "         -0.1205, -0.0512,  0.0597],\n",
      "        [ 0.0772, -0.1282,  0.1962, -0.1790, -0.0468, -0.1578, -0.0971, -0.0422,\n",
      "          0.0697,  0.1618,  0.0107, -0.1760,  0.2132,  0.0267,  0.2176,  0.1757,\n",
      "         -0.1475,  0.1393, -0.0209],\n",
      "        [-0.0992,  0.1532, -0.1790, -0.1156, -0.1108, -0.1076, -0.0495, -0.0588,\n",
      "          0.0477,  0.1528, -0.0819,  0.1840,  0.2133, -0.0940,  0.0288, -0.0219,\n",
      "         -0.1014, -0.0270,  0.1736]], requires_grad=True)\n",
      "Parameter containing:\n",
      "tensor([ 5.0689e-02, -1.6642e-01,  1.6529e-01,  1.3793e-01, -1.3335e-01,\n",
      "        -2.5112e-02,  1.8524e-01, -5.2919e-02, -1.1497e-01, -8.9551e-02,\n",
      "        -3.2157e-02,  2.2830e-01,  1.3963e-01, -1.3947e-05,  7.0732e-02],\n",
      "       requires_grad=True)\n",
      "Parameter containing:\n",
      "tensor([[ 0.1241,  0.1830,  0.1802, -0.0986,  0.0863, -0.1759, -0.0286, -0.0367,\n",
      "          0.1222, -0.1295,  0.1615, -0.1813, -0.0619, -0.1458,  0.1048],\n",
      "        [ 0.1024, -0.1132, -0.1408, -0.0108,  0.0370, -0.0170, -0.1918,  0.1285,\n",
      "         -0.1660, -0.2055,  0.2034, -0.0208, -0.1190,  0.0962, -0.2325],\n",
      "        [ 0.2492,  0.1133, -0.1836, -0.0649, -0.2112,  0.1038, -0.2280,  0.2284,\n",
      "         -0.1615,  0.0676, -0.1851, -0.1733, -0.2523, -0.0965, -0.1929],\n",
      "        [-0.1196, -0.1146,  0.0511,  0.1054,  0.1046,  0.1995, -0.0680, -0.0884,\n",
      "          0.0450, -0.2029, -0.0511, -0.2042,  0.1957, -0.0364,  0.0113],\n",
      "        [ 0.2099,  0.1837, -0.0594,  0.0883,  0.1418, -0.1795, -0.2225, -0.2472,\n",
      "          0.1236,  0.2303, -0.0940,  0.2065,  0.1333,  0.0995, -0.0177],\n",
      "        [-0.2463, -0.2558,  0.2393, -0.0836,  0.0707,  0.0370,  0.2307, -0.2077,\n",
      "         -0.1203,  0.0849,  0.2012,  0.2253, -0.0426,  0.1387, -0.0372],\n",
      "        [ 0.1477, -0.0702, -0.1656, -0.1091,  0.1164, -0.0829,  0.0565,  0.2179,\n",
      "         -0.2512, -0.1050, -0.0945,  0.1958, -0.1894,  0.1201,  0.1842]],\n",
      "       requires_grad=True)\n",
      "Parameter containing:\n",
      "tensor([ 0.1862,  0.0829, -0.2204, -0.0851,  0.1263, -0.2412,  0.1503],\n",
      "       requires_grad=True)\n"
     ]
    }
   ],
   "source": [
    "for p in model.parameters():\n",
    "    print(p)"
   ]
  },
  {
   "cell_type": "code",
   "execution_count": 72,
   "metadata": {},
   "outputs": [
    {
     "data": {
      "text/plain": [
       "tensor([[ 0.0749,  0.0470, -0.2748, -0.1601,  0.0599, -0.1301,  0.2554],\n",
       "        [ 0.0668,  0.0334, -0.2953, -0.1401,  0.0586, -0.1213,  0.2542],\n",
       "        [ 0.0362,  0.0327, -0.2762, -0.1574, -0.0125, -0.0122,  0.2632]],\n",
       "       grad_fn=<SliceBackward0>)"
      ]
     },
     "execution_count": 72,
     "metadata": {},
     "output_type": "execute_result"
    }
   ],
   "source": [
    "y_pred = model(X_torch.float())\n",
    "y_pred[:3]"
   ]
  },
  {
   "cell_type": "code",
   "execution_count": 73,
   "metadata": {},
   "outputs": [
    {
     "data": {
      "text/plain": [
       "(torch.Size([146, 7]), torch.Size([146, 7]))"
      ]
     },
     "execution_count": 73,
     "metadata": {},
     "output_type": "execute_result"
    }
   ],
   "source": [
    "y_pred.shape, y_torch.shape"
   ]
  },
  {
   "cell_type": "code",
   "execution_count": 74,
   "metadata": {},
   "outputs": [
    {
     "data": {
      "text/plain": [
       "tensor(1.9105, grad_fn=<DivBackward1>)"
      ]
     },
     "execution_count": 74,
     "metadata": {},
     "output_type": "execute_result"
    }
   ],
   "source": [
    "loss = criterion(y_pred, y_torch.float())\n",
    "loss"
   ]
  },
  {
   "cell_type": "code",
   "execution_count": 75,
   "metadata": {},
   "outputs": [
    {
     "name": "stdout",
     "output_type": "stream",
     "text": [
      "epoch:  1  loss:  1.9105077981948853\n",
      "epoch:  1001  loss:  0.06769460439682007\n",
      "epoch:  2001  loss:  0.03648197278380394\n",
      "epoch:  3001  loss:  0.017793113365769386\n",
      "epoch:  4001  loss:  0.009359102696180344\n",
      "epoch:  5001  loss:  0.0058330693282186985\n",
      "epoch:  6001  loss:  0.004090685397386551\n",
      "epoch:  7001  loss:  0.0030897262040525675\n",
      "epoch:  8001  loss:  0.0024527241475880146\n",
      "epoch:  9001  loss:  0.0020170044153928757\n"
     ]
    }
   ],
   "source": [
    "for epoch in np.arange(0,10000):\n",
    "       # Forward pass: Compute predicted y by passing x to the model\n",
    "       y_pred_prob = model(X_torch.float())\n",
    "\n",
    "       # Compute and print loss\n",
    "       loss = criterion(y_pred_prob, y_torch.float())\n",
    "       if epoch%1000 == 0:\n",
    "          print('epoch: ', epoch+1,' loss: ', loss.item())\n",
    "\n",
    "       # Zero gradients, perform a backward pass, and update the weights.\n",
    "       optimizer.zero_grad()\n",
    "\n",
    "       # perform a backward pass (backpropagation)\n",
    "       loss.backward()\n",
    "\n",
    "       # Update the parameters\n",
    "       optimizer.step()\n",
    "#print('epoch: ', epoch+1,' loss: ', loss.item())"
   ]
  },
  {
   "cell_type": "code",
   "execution_count": 76,
   "metadata": {},
   "outputs": [
    {
     "data": {
      "text/plain": [
       "tensor(0.0017, grad_fn=<DivBackward1>)"
      ]
     },
     "execution_count": 76,
     "metadata": {},
     "output_type": "execute_result"
    }
   ],
   "source": [
    "loss"
   ]
  },
  {
   "cell_type": "code",
   "execution_count": 77,
   "metadata": {},
   "outputs": [
    {
     "data": {
      "text/plain": [
       "torch.Tensor"
      ]
     },
     "execution_count": 77,
     "metadata": {},
     "output_type": "execute_result"
    }
   ],
   "source": [
    "X_torch_test = torch.from_numpy(X_scl_tst)\n",
    "type(X_torch_test)"
   ]
  },
  {
   "cell_type": "code",
   "execution_count": 78,
   "metadata": {},
   "outputs": [
    {
     "data": {
      "text/plain": [
       "tensor([[1.6672e-08, 9.9997e-01, 4.9517e-11, 2.7907e-09, 7.9897e-06, 7.3032e-08,\n",
       "         2.6510e-05],\n",
       "        [8.7353e-12, 7.5507e-05, 1.5220e-10, 2.0825e-08, 9.9992e-01, 2.7334e-07,\n",
       "         2.8092e-12],\n",
       "        [1.2831e-08, 4.4501e-14, 1.0521e-07, 1.0000e+00, 7.7624e-07, 1.0676e-10,\n",
       "         4.7412e-10]], grad_fn=<SliceBackward0>)"
      ]
     },
     "execution_count": 78,
     "metadata": {},
     "output_type": "execute_result"
    }
   ],
   "source": [
    "y_wt_sum = model(X_torch_test.float()) \n",
    "softmax = nn.Softmax(dim=1)\n",
    "y_pred_prob = softmax(y_wt_sum)\n",
    "y_pred_prob[:3]"
   ]
  },
  {
   "cell_type": "markdown",
   "metadata": {},
   "source": [
    "`detach().numpy()` converts `torch.Tensor` into `numpy` object"
   ]
  },
  {
   "cell_type": "code",
   "execution_count": 79,
   "metadata": {},
   "outputs": [
    {
     "data": {
      "text/plain": [
       "(63, 7)"
      ]
     },
     "execution_count": 79,
     "metadata": {},
     "output_type": "execute_result"
    }
   ],
   "source": [
    "y_pred_prob = y_pred_prob.detach().numpy()\n",
    "y_pred_prob.shape"
   ]
  },
  {
   "cell_type": "code",
   "execution_count": 80,
   "metadata": {},
   "outputs": [
    {
     "data": {
      "text/plain": [
       "(63,)"
      ]
     },
     "execution_count": 80,
     "metadata": {},
     "output_type": "execute_result"
    }
   ],
   "source": [
    "y_pred = np.argmax(y_pred_prob, axis=1 )\n",
    "y_pred.shape"
   ]
  },
  {
   "cell_type": "markdown",
   "metadata": {},
   "source": [
    "### Test Set Accuracy Score"
   ]
  },
  {
   "cell_type": "code",
   "execution_count": 81,
   "metadata": {},
   "outputs": [
    {
     "name": "stdout",
     "output_type": "stream",
     "text": [
      "0.0\n"
     ]
    }
   ],
   "source": [
    "print(accuracy_score(y_test,y_pred))"
   ]
  },
  {
   "cell_type": "markdown",
   "metadata": {},
   "source": [
    "### Test Set Log Loss"
   ]
  },
  {
   "cell_type": "code",
   "execution_count": 82,
   "metadata": {},
   "outputs": [
    {
     "data": {
      "text/plain": [
       "0.6011281984006083"
      ]
     },
     "execution_count": 82,
     "metadata": {},
     "output_type": "execute_result"
    }
   ],
   "source": [
    "log_loss(y_test, y_pred_prob)"
   ]
  },
  {
   "cell_type": "code",
   "execution_count": 83,
   "metadata": {},
   "outputs": [],
   "source": [
    "from sklearn.metrics import confusion_matrix\n",
    "from sklearn.metrics import ConfusionMatrixDisplay\n",
    "import matplotlib.pyplot as plt"
   ]
  },
  {
   "cell_type": "code",
   "execution_count": 84,
   "metadata": {},
   "outputs": [
    {
     "ename": "ValueError",
     "evalue": "y contains previously unseen labels: ['BRICKFACE' 'CEMENT' 'FOLIAGE' 'GRASS' 'PATH' 'SKY' 'WINDOW']",
     "output_type": "error",
     "traceback": [
      "\u001b[1;31m---------------------------------------------------------------------------\u001b[0m",
      "\u001b[1;31mValueError\u001b[0m                                Traceback (most recent call last)",
      "Cell \u001b[1;32mIn[84], line 1\u001b[0m\n\u001b[1;32m----> 1\u001b[0m y_test \u001b[38;5;241m=\u001b[39m \u001b[43mle\u001b[49m\u001b[38;5;241;43m.\u001b[39;49m\u001b[43minverse_transform\u001b[49m\u001b[43m(\u001b[49m\u001b[43my_test\u001b[49m\u001b[43m)\u001b[49m\n\u001b[0;32m      2\u001b[0m y_pred \u001b[38;5;241m=\u001b[39m le\u001b[38;5;241m.\u001b[39minverse_transform(y_pred)\n",
      "File \u001b[1;32mc:\\Users\\dbda.STUDENTSDC\\AppData\\Local\\anaconda3\\envs\\dung\\lib\\site-packages\\sklearn\\preprocessing\\_label.py:160\u001b[0m, in \u001b[0;36mLabelEncoder.inverse_transform\u001b[1;34m(self, y)\u001b[0m\n\u001b[0;32m    158\u001b[0m diff \u001b[38;5;241m=\u001b[39m np\u001b[38;5;241m.\u001b[39msetdiff1d(y, np\u001b[38;5;241m.\u001b[39marange(\u001b[38;5;28mlen\u001b[39m(\u001b[38;5;28mself\u001b[39m\u001b[38;5;241m.\u001b[39mclasses_)))\n\u001b[0;32m    159\u001b[0m \u001b[38;5;28;01mif\u001b[39;00m \u001b[38;5;28mlen\u001b[39m(diff):\n\u001b[1;32m--> 160\u001b[0m     \u001b[38;5;28;01mraise\u001b[39;00m \u001b[38;5;167;01mValueError\u001b[39;00m(\u001b[38;5;124m\"\u001b[39m\u001b[38;5;124my contains previously unseen labels: \u001b[39m\u001b[38;5;132;01m%s\u001b[39;00m\u001b[38;5;124m\"\u001b[39m \u001b[38;5;241m%\u001b[39m \u001b[38;5;28mstr\u001b[39m(diff))\n\u001b[0;32m    161\u001b[0m y \u001b[38;5;241m=\u001b[39m np\u001b[38;5;241m.\u001b[39masarray(y)\n\u001b[0;32m    162\u001b[0m \u001b[38;5;28;01mreturn\u001b[39;00m \u001b[38;5;28mself\u001b[39m\u001b[38;5;241m.\u001b[39mclasses_[y]\n",
      "\u001b[1;31mValueError\u001b[0m: y contains previously unseen labels: ['BRICKFACE' 'CEMENT' 'FOLIAGE' 'GRASS' 'PATH' 'SKY' 'WINDOW']"
     ]
    }
   ],
   "source": [
    "y_test = le.inverse_transform(y_test)\n",
    "y_pred = le.inverse_transform(y_pred)"
   ]
  },
  {
   "cell_type": "code",
   "execution_count": null,
   "metadata": {},
   "outputs": [
    {
     "data": {
      "image/png": "[encoded data removed]",
      "text/plain": [
       "<Figure size 640x480 with 2 Axes>"
      ]
     },
     "metadata": {},
     "output_type": "display_data"
    }
   ],
   "source": [
    "cm = confusion_matrix(y_test,y_pred)\n",
    "disp = ConfusionMatrixDisplay(cm, display_labels = list(le.classes_))\n",
    "disp.plot()\n",
    "plt.show()"
   ]
  },
  {
   "cell_type": "markdown",
   "metadata": {},
   "source": [
    "## HR Dataset"
   ]
  },
  {
   "cell_type": "code",
   "execution_count": 107,
   "metadata": {},
   "outputs": [],
   "source": [
    "from torch.utils.data import DataLoader\n",
    "import torch\n",
    "import pandas as pd\n",
    "import numpy as np\n",
    "import torch.nn as nn\n",
    "from sklearn.model_selection import train_test_split\n",
    "from sklearn.metrics import accuracy_score, log_loss\n",
    "from sklearn.preprocessing import MinMaxScaler\n",
    "from torch.utils.data import Dataset\n",
    "from torch.utils.data import TensorDataset"
   ]
  },
  {
   "cell_type": "code",
   "execution_count": 108,
   "metadata": {},
   "outputs": [
    {
     "data": {
      "text/html": [
       "<div>\n",
       "<style scoped>\n",
       "    .dataframe tbody tr th:only-of-type {\n",
       "        vertical-align: middle;\n",
       "    }\n",
       "\n",
       "    .dataframe tbody tr th {\n",
       "        vertical-align: top;\n",
       "    }\n",
       "\n",
       "    .dataframe thead th {\n",
       "        text-align: right;\n",
       "    }\n",
       "</style>\n",
       "<table border=\"1\" class=\"dataframe\">\n",
       "  <thead>\n",
       "    <tr style=\"text-align: right;\">\n",
       "      <th></th>\n",
       "      <th>satisfaction_level</th>\n",
       "      <th>last_evaluation</th>\n",
       "      <th>number_project</th>\n",
       "      <th>average_montly_hours</th>\n",
       "      <th>time_spend_company</th>\n",
       "      <th>Work_accident</th>\n",
       "      <th>left</th>\n",
       "      <th>promotion_last_5years</th>\n",
       "      <th>Department</th>\n",
       "      <th>salary</th>\n",
       "    </tr>\n",
       "  </thead>\n",
       "  <tbody>\n",
       "    <tr>\n",
       "      <th>0</th>\n",
       "      <td>0.38</td>\n",
       "      <td>0.53</td>\n",
       "      <td>2</td>\n",
       "      <td>157</td>\n",
       "      <td>3</td>\n",
       "      <td>0</td>\n",
       "      <td>1</td>\n",
       "      <td>0</td>\n",
       "      <td>sales</td>\n",
       "      <td>low</td>\n",
       "    </tr>\n",
       "    <tr>\n",
       "      <th>1</th>\n",
       "      <td>0.80</td>\n",
       "      <td>0.86</td>\n",
       "      <td>5</td>\n",
       "      <td>262</td>\n",
       "      <td>6</td>\n",
       "      <td>0</td>\n",
       "      <td>1</td>\n",
       "      <td>0</td>\n",
       "      <td>sales</td>\n",
       "      <td>medium</td>\n",
       "    </tr>\n",
       "    <tr>\n",
       "      <th>2</th>\n",
       "      <td>0.10</td>\n",
       "      <td>0.77</td>\n",
       "      <td>6</td>\n",
       "      <td>247</td>\n",
       "      <td>4</td>\n",
       "      <td>0</td>\n",
       "      <td>1</td>\n",
       "      <td>0</td>\n",
       "      <td>sales</td>\n",
       "      <td>low</td>\n",
       "    </tr>\n",
       "    <tr>\n",
       "      <th>3</th>\n",
       "      <td>0.92</td>\n",
       "      <td>0.85</td>\n",
       "      <td>5</td>\n",
       "      <td>259</td>\n",
       "      <td>5</td>\n",
       "      <td>0</td>\n",
       "      <td>1</td>\n",
       "      <td>0</td>\n",
       "      <td>sales</td>\n",
       "      <td>low</td>\n",
       "    </tr>\n",
       "    <tr>\n",
       "      <th>4</th>\n",
       "      <td>0.89</td>\n",
       "      <td>1.00</td>\n",
       "      <td>5</td>\n",
       "      <td>224</td>\n",
       "      <td>5</td>\n",
       "      <td>0</td>\n",
       "      <td>1</td>\n",
       "      <td>0</td>\n",
       "      <td>sales</td>\n",
       "      <td>low</td>\n",
       "    </tr>\n",
       "  </tbody>\n",
       "</table>\n",
       "</div>"
      ],
      "text/plain": [
       "   satisfaction_level  last_evaluation  number_project  average_montly_hours  \\\n",
       "0                0.38             0.53               2                   157   \n",
       "1                0.80             0.86               5                   262   \n",
       "2                0.10             0.77               6                   247   \n",
       "3                0.92             0.85               5                   259   \n",
       "4                0.89             1.00               5                   224   \n",
       "\n",
       "   time_spend_company  Work_accident  left  promotion_last_5years Department  \\\n",
       "0                   3              0     1                      0      sales   \n",
       "1                   6              0     1                      0      sales   \n",
       "2                   4              0     1                      0      sales   \n",
       "3                   5              0     1                      0      sales   \n",
       "4                   5              0     1                      0      sales   \n",
       "\n",
       "   salary  \n",
       "0     low  \n",
       "1  medium  \n",
       "2     low  \n",
       "3     low  \n",
       "4     low  "
      ]
     },
     "execution_count": 108,
     "metadata": {},
     "output_type": "execute_result"
    }
   ],
   "source": [
    "df = pd.read_csv(\"./Cases/human-resources-analytics/HR_comma_sep.csv\")\n",
    "df.head()"
   ]
  },
  {
   "cell_type": "code",
   "execution_count": 109,
   "metadata": {},
   "outputs": [],
   "source": [
    "dum_df = pd.get_dummies(df,drop_first=True)\n",
    "X = dum_df.drop('left', axis=1)\n",
    "scaler = MinMaxScaler()\n",
    "y = dum_df['left'].values\n",
    "X_train, X_test, y_train, y_test = train_test_split(X, y, test_size = 0.3,random_state=24,stratify=y)\n",
    "X_scl_trn = scaler.fit_transform(X_train) \n",
    "X_scl_tst = scaler.transform(X_test) \n"
   ]
  },
  {
   "cell_type": "code",
   "execution_count": 110,
   "metadata": {},
   "outputs": [
    {
     "name": "stdout",
     "output_type": "stream",
     "text": [
      "torch.Size([10496, 18])\n",
      "torch.Size([10496])\n"
     ]
    }
   ],
   "source": [
    "X_torch = torch.from_numpy(X_scl_trn)\n",
    "y_torch = torch.from_numpy(y_train)\n",
    "print(X_torch.size())\n",
    "print(y_torch.size())"
   ]
  },
  {
   "cell_type": "code",
   "execution_count": 111,
   "metadata": {},
   "outputs": [],
   "source": [
    "joint_dataset = TensorDataset(X_torch.float(), y_torch.float())\n",
    "\n",
    "torch.manual_seed(24)\n",
    "data_loader = DataLoader(dataset=joint_dataset, batch_size=30, shuffle=True)"
   ]
  },
  {
   "cell_type": "code",
   "execution_count": 112,
   "metadata": {},
   "outputs": [
    {
     "data": {
      "text/plain": [
       "SGD (\n",
       "Parameter Group 0\n",
       "    dampening: 0\n",
       "    differentiable: False\n",
       "    foreach: None\n",
       "    fused: None\n",
       "    lr: 0.1\n",
       "    maximize: False\n",
       "    momentum: 0\n",
       "    nesterov: False\n",
       "    weight_decay: 0\n",
       ")"
      ]
     },
     "execution_count": 112,
     "metadata": {},
     "output_type": "execute_result"
    }
   ],
   "source": [
    "model = nn.Sequential(nn.Linear(in_features=X_scl_trn.shape[1], out_features=1))\n",
    "\n",
    "criterion = torch.nn.BCEWithLogitsLoss()\n",
    "# Construct the optimizer (Adam in this case)\n",
    "optimizer = torch.optim.SGD(model.parameters(), lr = 0.1)\n",
    "optimizer"
   ]
  },
  {
   "cell_type": "code",
   "execution_count": 113,
   "metadata": {},
   "outputs": [
    {
     "name": "stdout",
     "output_type": "stream",
     "text": [
      "torch.Size([10496, 1])\n",
      "torch.Size([10496, 1])\n"
     ]
    }
   ],
   "source": [
    "y_pred = model(X_torch.float())\n",
    "y_torch = y_torch.unsqueeze(1)\n",
    "print(y_torch.shape)\n",
    "print(y_pred.shape)"
   ]
  },
  {
   "cell_type": "code",
   "execution_count": 114,
   "metadata": {},
   "outputs": [
    {
     "name": "stdout",
     "output_type": "stream",
     "text": [
      "epoch:  1  train loss:  0.4811733365058899\n",
      "epoch:  11  train loss:  0.5253878831863403\n",
      "epoch:  21  train loss:  0.36816149950027466\n",
      "epoch:  31  train loss:  0.37195441126823425\n",
      "epoch:  41  train loss:  0.3988130986690521\n",
      "epoch:  51  train loss:  0.4829082787036896\n",
      "epoch:  61  train loss:  0.4710504114627838\n",
      "epoch:  71  train loss:  0.12753722071647644\n",
      "epoch:  81  train loss:  0.3900519609451294\n",
      "epoch:  91  train loss:  0.26677173376083374\n",
      "torch.Size([4499, 1])\n"
     ]
    }
   ],
   "source": [
    "for epoch in np.arange(0,100):\n",
    "    for i, batch in enumerate(data_loader, 1):\n",
    "      # Forward pass: Compute predicted y by passing x to the model\n",
    "      y_pred_prob = model(batch[0].float())\n",
    "\n",
    "      # Compute and print loss\n",
    "      loss = criterion(y_pred_prob, batch[1].float().unsqueeze(1))\n",
    "\n",
    "      # Zero gradients, perform a backward pass, and update the weights.\n",
    "      optimizer.zero_grad()\n",
    "\n",
    "      # perform a backward pass (backpropagation)\n",
    "      loss.backward()\n",
    "\n",
    "      # Update the parameters\n",
    "      optimizer.step()\n",
    "    \n",
    "    if epoch%10 == 0:\n",
    "          print('epoch: ', epoch+1,' train loss: ', loss.item())\n",
    "          \n",
    "          \n",
    "X_torch_test = torch.from_numpy(X_scl_tst)\n",
    "y_torch_test = torch.from_numpy(y_test)\n",
    "y_torch_test = y_torch_test.unsqueeze(1)\n",
    "print(y_torch_test.shape)"
   ]
  },
  {
   "cell_type": "code",
   "execution_count": 115,
   "metadata": {},
   "outputs": [
    {
     "name": "stdout",
     "output_type": "stream",
     "text": [
      "0.7872860635696821\n"
     ]
    }
   ],
   "source": [
    "lin_output = model(X_torch_test.float()) # Equivalent predict_proba / predict\n",
    "np_out = lin_output.detach().numpy()\n",
    "y_pred_prob = 1 / (1 + np.exp(-np_out))\n",
    "y_pred_prob[:5]\n",
    "\n",
    "\n",
    "y_pred_prob = y_pred_prob.reshape(y_test.shape[0],)\n",
    "\n",
    "\n",
    "y_pred = np.where(y_pred_prob >= 0.5,1,0)\n",
    "\n",
    "print(accuracy_score(y_test,y_pred))  "
   ]
  },
  {
   "cell_type": "markdown",
   "metadata": {},
   "source": [
    "## MLPClassifer"
   ]
  },
  {
   "cell_type": "code",
   "execution_count": null,
   "metadata": {},
   "outputs": [],
   "source": [
    "torch.manual_seed(0)\n",
    "class MLPClassifier(torch.nn.Module):\n",
    "    def __init__(self, num_features):\n",
    "        super().__init__()\n",
    "        self.linear1 = nn.Linear(in_features=num_features, out_features=15)\n",
    "        self.linear2 = nn.Linear(in_features=15, out_features=10)\n",
    "        self.linear3 = nn.Linear(in_features=10, out_features=1)\n",
    "        self.act1 = nn.ReLU()\n",
    "    \n",
    "    def forward(self, x):\n",
    "        x = self.linear1(x)\n",
    "        x = self.act1(x)\n",
    "        x = self.linear2(x)\n",
    "        x = self.act1(x)\n",
    "        output = self.linear3(x)\n",
    "        return output"
   ]
  },
  {
   "cell_type": "code",
   "execution_count": 129,
   "metadata": {},
   "outputs": [
    {
     "name": "stdout",
     "output_type": "stream",
     "text": [
      "torch.Size([10496, 18])\n",
      "torch.Size([10496])\n",
      "torch.Size([10496, 1])\n",
      "torch.Size([10496, 1])\n",
      "epoch:  1  train loss:  0.6633834838867188\n",
      "epoch:  11  train loss:  0.09882447123527527\n",
      "epoch:  21  train loss:  0.2586304843425751\n",
      "epoch:  31  train loss:  0.12538249790668488\n",
      "epoch:  41  train loss:  0.08723057061433792\n",
      "epoch:  51  train loss:  0.13292667269706726\n",
      "epoch:  61  train loss:  0.021855883300304413\n",
      "epoch:  71  train loss:  0.09706327319145203\n",
      "epoch:  81  train loss:  0.05502345785498619\n",
      "epoch:  91  train loss:  0.16244331002235413\n",
      "torch.Size([4499, 1])\n",
      "0.9555456768170705\n"
     ]
    },
    {
     "data": {
      "text/plain": [
       "0.13737448802714328"
      ]
     },
     "execution_count": 129,
     "metadata": {},
     "output_type": "execute_result"
    }
   ],
   "source": [
    "from torch.utils.data import DataLoader\n",
    "import torch\n",
    "import pandas as pd\n",
    "import numpy as np\n",
    "import torch.nn as nn\n",
    "from sklearn.model_selection import train_test_split\n",
    "from sklearn.metrics import accuracy_score, log_loss\n",
    "from sklearn.preprocessing import MinMaxScaler\n",
    "from torch.utils.data import Dataset\n",
    "from torch.utils.data import TensorDataset\n",
    "\n",
    "  \n",
    "df = pd.read_csv(\"./Cases/human-resources-analytics/HR_comma_sep.csv\")\n",
    "dum_df = pd.get_dummies(df,drop_first=True)\n",
    "dum_df.head()\n",
    "\n",
    "\n",
    "X = dum_df.drop('left', axis=1)\n",
    "scaler = MinMaxScaler()\n",
    "\n",
    "y = dum_df['left'].values\n",
    "X_train, X_test, y_train, y_test = train_test_split(X, y, test_size = 0.3, \n",
    "                                                    random_state=24,stratify=y)\n",
    "X_scl_trn = scaler.fit_transform(X_train) \n",
    "X_scl_tst = scaler.transform(X_test) \n",
    "\n",
    "\n",
    "X_torch = torch.from_numpy(X_scl_trn)\n",
    "y_torch = torch.from_numpy(y_train)\n",
    "print(X_torch.size())\n",
    "print(y_torch.size())\n",
    "\n",
    "joint_dataset = TensorDataset(X_torch.float(), y_torch.float())\n",
    "\n",
    "torch.manual_seed(24)\n",
    "data_loader = DataLoader(dataset=joint_dataset, batch_size=30, shuffle=True)\n",
    "\n",
    "\n",
    "#model = nn.Sequential(nn.Linear(in_features=X_scl_trn.shape[1], out_features=1))\n",
    "\n",
    "torch.manual_seed(24)\n",
    "class MLPClassifier(torch.nn.Module):    \n",
    "    def __init__(self, num_features):\n",
    "        super().__init__()\n",
    "        self.linear1 = nn.Linear(in_features=num_features, out_features=15)\n",
    "        self.linear2 = nn.Linear(in_features=15, out_features=7)\n",
    "        self.linear3 = nn.Linear(in_features=7, out_features=1)\n",
    "        self.act1 = nn.ReLU()\n",
    "        \n",
    "    def forward(self, x):\n",
    "        x = self.linear1(x)\n",
    "        x = self.act1(x)\n",
    "        x = self.linear2(x)\n",
    "        x = self.act1(x)        \n",
    "        output = self.linear3(x)\n",
    "        return output\n",
    "        \n",
    "model = MLPClassifier(num_features = X_scl_trn.shape[1])\n",
    "\n",
    "\n",
    "criterion = torch.nn.BCEWithLogitsLoss()\n",
    "# Construct the optimizer (Adam in this case)\n",
    "optimizer = torch.optim.SGD(model.parameters(), lr = 0.1)\n",
    "optimizer\n",
    "\n",
    "\n",
    "y_pred = model(X_torch.float())\n",
    "y_torch = y_torch.unsqueeze(1)\n",
    "print(y_torch.shape)\n",
    "print(y_pred.shape)\n",
    "\n",
    "history = {'train_loss': [], 'epoch': []}\n",
    "\n",
    "# Gradient Descent\n",
    "\n",
    "for epoch in np.arange(0,100):\n",
    "    for i, batch in enumerate(data_loader, 1):\n",
    "        # Forward pass: Compute predicted y by passing x to the model\n",
    "        y_pred_prob = model(batch[0].float())\n",
    "\n",
    "        # Compute and print loss\n",
    "        loss = criterion(y_pred_prob, batch[1].float().unsqueeze(1))\n",
    "\n",
    "        # Zero gradients, perform a backward pass, and update the weights.\n",
    "        optimizer.zero_grad()\n",
    "\n",
    "        # perform a backward pass (backpropagation)\n",
    "        loss.backward()\n",
    "\n",
    "        # Update the parameters\n",
    "        optimizer.step()\n",
    "\n",
    "    if epoch%10 == 0:\n",
    "        print('epoch: ', epoch+1,' train loss: ', loss.item())\n",
    "        history['train_loss'].append(loss.item())\n",
    "        history['epoch'].append(epoch)\n",
    "          \n",
    "X_torch_test = torch.from_numpy(X_scl_tst)\n",
    "y_torch_test = torch.from_numpy(y_test)\n",
    "y_torch_test = y_torch_test.unsqueeze(1)\n",
    "print(y_torch_test.shape)\n",
    "\n",
    "\n",
    "\n",
    "lin_output = model(X_torch_test.float()) # Equivalent predict_proba / predict\n",
    "np_out = lin_output.detach().numpy()\n",
    "y_pred_prob = 1 / (1 + np.exp(-np_out))\n",
    "y_pred_prob[:5]\n",
    "\n",
    "\n",
    "y_pred_prob = y_pred_prob.reshape(y_test.shape[0],)\n",
    "\n",
    "\n",
    "y_pred = np.where(y_pred_prob >= 0.5,1,0)\n",
    "\n",
    "print(accuracy_score(y_test,y_pred))  \n",
    "    \n",
    "    \n",
    "log_loss(y_test, y_pred_prob)\n"
   ]
  },
  {
   "cell_type": "code",
   "execution_count": 130,
   "metadata": {},
   "outputs": [
    {
     "data": {
      "text/plain": [
       "<matplotlib.legend.Legend at 0x22f5eef8070>"
      ]
     },
     "execution_count": 130,
     "metadata": {},
     "output_type": "execute_result"
    },
    {
     "data": {
      "image/png": "[encoded data removed]",
      "text/plain": [
       "<Figure size 640x480 with 1 Axes>"
      ]
     },
     "metadata": {},
     "output_type": "display_data"
    }
   ],
   "source": [
    "# plot history\n",
    "plt.plot(history['epoch'], history['train_loss'], label='train')\n",
    "plt.xlabel('epoch')\n",
    "plt.ylabel('loss')\n",
    "plt.legend()"
   ]
  },
  {
   "cell_type": "code",
   "execution_count": 131,
   "metadata": {},
   "outputs": [
    {
     "name": "stdout",
     "output_type": "stream",
     "text": [
      "torch.Size([146, 19])\n",
      "torch.Size([146, 7])\n",
      "torch.Size([146, 1, 7])\n",
      "torch.Size([146, 7])\n",
      "epoch:  1  train loss:  1.9037859439849854\n",
      "epoch:  11  train loss:  0.6341118812561035\n",
      "epoch:  21  train loss:  0.2504810392856598\n",
      "epoch:  31  train loss:  0.17110562324523926\n",
      "epoch:  41  train loss:  0.3772144317626953\n",
      "epoch:  51  train loss:  0.23258325457572937\n",
      "epoch:  61  train loss:  0.3565141260623932\n",
      "epoch:  71  train loss:  0.006154099013656378\n",
      "epoch:  81  train loss:  0.06240613013505936\n",
      "epoch:  91  train loss:  0.012729808688163757\n"
     ]
    },
    {
     "data": {
      "image/png": "[encoded data removed]",
      "text/plain": [
       "<Figure size 640x480 with 1 Axes>"
      ]
     },
     "metadata": {},
     "output_type": "display_data"
    },
    {
     "name": "stdout",
     "output_type": "stream",
     "text": [
      "torch.Size([63, 1])\n",
      "0.8412698412698413\n",
      "0.8214906527908638\n"
     ]
    }
   ],
   "source": [
    "from torch.utils.data import DataLoader\n",
    "import torch\n",
    "import pandas as pd\n",
    "import numpy as np\n",
    "import torch.nn as nn\n",
    "from sklearn.model_selection import train_test_split\n",
    "from sklearn.metrics import accuracy_score, log_loss\n",
    "from torch.utils.data import Dataset\n",
    "from torch.utils.data import TensorDataset\n",
    "import matplotlib.pyplot as plt\n",
    "from sklearn.preprocessing import MinMaxScaler, LabelEncoder, OneHotEncoder\n",
    "\n",
    "df = pd.read_csv(\"./Cases/Image Segmentation/Image_Segmentation.csv\")\n",
    "X = df.drop('Class', axis=1)\n",
    "y = df['Class']\n",
    "\n",
    "le = LabelEncoder()\n",
    "le_y = le.fit_transform(y)\n",
    "X_train, X_test, y_train, y_test = train_test_split(X, le_y, test_size = 0.3, \n",
    "                                                    random_state=24,stratify=le_y)\n",
    "                                                    \n",
    "ohe = OneHotEncoder(sparse_output=False)\n",
    "y_trn_ohe = ohe.fit_transform( y_train.reshape(-1,1) )\n",
    "y_trn_ohe.shape\n",
    "\n",
    "scaler = MinMaxScaler()\n",
    "X_scl_trn = scaler.fit_transform(X_train) \n",
    "X_scl_tst = scaler.transform(X_test) \n",
    "\n",
    "X_torch = torch.from_numpy(X_scl_trn)\n",
    "y_torch = torch.from_numpy(y_trn_ohe)\n",
    "print(X_torch.size())\n",
    "print(y_torch.size())\n",
    "\n",
    "joint_dataset = TensorDataset(X_torch.float(), y_torch.float())\n",
    "\n",
    "torch.manual_seed(24)\n",
    "data_loader = DataLoader(dataset=joint_dataset, batch_size=64, shuffle=True)\n",
    "\n",
    "torch.manual_seed(24)\n",
    "class MLPClassifier(torch.nn.Module):    \n",
    "    def __init__(self, num_features):\n",
    "        super().__init__()\n",
    "        self.linear1 = nn.Linear(in_features=num_features, out_features=15)\n",
    "        self.linear2 = nn.Linear(in_features=15, out_features=7)\n",
    "        self.linear3 = nn.Linear(in_features=7, out_features=7)\n",
    "        self.act1 = nn.ReLU()\n",
    "        \n",
    "    def forward(self, x):\n",
    "        x = self.linear1(x)\n",
    "        x = self.act1(x)\n",
    "        x = self.linear2(x)\n",
    "        x = self.act1(x)        \n",
    "        output = self.linear3(x)\n",
    "        return output\n",
    "        \n",
    "model = MLPClassifier(num_features = X_scl_trn.shape[1])\n",
    "\n",
    "criterion = torch.nn.CrossEntropyLoss()\n",
    "optimizer = torch.optim.Adam(model.parameters(), lr = 0.1)\n",
    "\n",
    "\n",
    "y_pred = model(X_torch.float())\n",
    "y_torch = y_torch.unsqueeze(1)\n",
    "print(y_torch.shape)\n",
    "print(y_pred.shape)\n",
    "\n",
    "# Gradient Descent\n",
    "losses = []\n",
    "for epoch in np.arange(0,100):\n",
    "    for i, batch in enumerate(data_loader, 1):\n",
    "      # Forward pass: Compute predicted y by passing x to the model\n",
    "      y_pred_prob = model(batch[0].float())\n",
    "\n",
    "      # Compute and print loss\n",
    "      loss = criterion(y_pred_prob, batch[1].float())\n",
    "\n",
    "      # Zero gradients, perform a backward pass, and update the weights.\n",
    "      optimizer.zero_grad()\n",
    "\n",
    "      # perform a backward pass (backpropagation)\n",
    "      loss.backward()\n",
    "\n",
    "      # Update the parameters\n",
    "      optimizer.step()\n",
    "    \n",
    "    if epoch%10 == 0:\n",
    "          print('epoch: ', epoch+1,' train loss: ', loss.item())\n",
    "\n",
    "    losses.append(loss.item())\n",
    "    \n",
    "    \n",
    "plt.plot(range(1, 101), losses)\n",
    "plt.xlabel(\"Epochs\")\n",
    "plt.title(\"Learning Curve with RMSprop\")\n",
    "plt.ylabel(\"Training Loss\")\n",
    "plt.show()\n",
    "\n",
    "\n",
    "X_torch_test = torch.from_numpy(X_scl_tst)\n",
    "y_torch_test = torch.from_numpy(y_test)\n",
    "y_torch_test = y_torch_test.unsqueeze(1)\n",
    "print(y_torch_test.shape)\n",
    "\n",
    "y_wt_sum = model(X_torch_test.float()) \n",
    "softmax = nn.Softmax(dim=1)\n",
    "y_pred_prob = softmax(y_wt_sum)\n",
    "y_pred_prob[:3]\n",
    "\n",
    "\n",
    "y_pred_prob = y_pred_prob.detach().numpy()\n",
    "y_pred = np.argmax(y_pred_prob, axis=1 )\n",
    "\n",
    "print(accuracy_score(y_test,y_pred))\n",
    "\n",
    "print(log_loss(y_test, y_pred_prob))\n",
    "\n"
   ]
  }
 ],
 "metadata": {
  "kernelspec": {
   "display_name": "dung",
   "language": "python",
   "name": "python3"
  },
  "language_info": {
   "codemirror_mode": {
    "name": "ipython",
    "version": 3
   },
   "file_extension": ".py",
   "mimetype": "text/x-python",
   "name": "python",
   "nbconvert_exporter": "python",
   "pygments_lexer": "ipython3",
   "version": "3.10.15"
  }
 },
 "nbformat": 4,
 "nbformat_minor": 2
}
